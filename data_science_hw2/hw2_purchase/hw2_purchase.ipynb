version https://git-lfs.github.com/spec/v1
oid sha256:ed2da73ce761aa8c4d392683299574206f5df0e61dd064c2f369445ab2e38af9
size 78799
