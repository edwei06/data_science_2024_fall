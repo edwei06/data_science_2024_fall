{
 "cells": [
  {
   "cell_type": "markdown",
   "metadata": {},
   "source": [
    "### In-Game Purchase Data Analysis\n",
    "\n",
    "#### Background \n",
    "\n",
    "In this homework, you are ask to deal with a task of analyzing an \"in-game purchase\" dataset. In this game, players are able to to purchase optional items that enhance their playing experience. Now your task is to generate a report that breaks down the game's purchasing data into meaningful insights.\n",
    "\n",
    "-----\n",
    "\n",
    "#### Observable Trends\n",
    "\n",
    "* There are 1163 active players. The vast majority are male (84%). There also exists, a smaller, but notable proportion of female players (14%).\n",
    "\n",
    "* Our peak age demographic falls between 20-24 (44.79%) with secondary groups falling between 15-19 (18.58%) and 25-29 (13.37%). \n",
    "\n",
    "* The age group that spends the most money is the 20-24 with 1,114.06 dollars as total purchase value and an average purchase of 4.32. In contrast, the demographic group that has the highest average purchase is the 35-39 with 4.76 and a total purchase value of 147.67. \n",
    "-----\n"
   ]
  },
  {
   "cell_type": "code",
   "execution_count": 38,
   "metadata": {},
   "outputs": [],
   "source": [
    "import pandas as pd\n",
    "import numpy as np\n",
    "\n",
    "# Raw data file\n",
    "file_to_load = \"purchase_data.csv\"\n",
    "\n",
    "# Read purchasing file and store into pandas data frame\n",
    "purchase_data = pd.read_csv(file_to_load)"
   ]
  },
  {
   "cell_type": "markdown",
   "metadata": {},
   "source": [
    "## Player Count"
   ]
  },
  {
   "cell_type": "markdown",
   "metadata": {},
   "source": [
    "* Display the total number of players\n"
   ]
  },
  {
   "cell_type": "code",
   "execution_count": 39,
   "metadata": {},
   "outputs": [
    {
     "data": {
      "text/html": [
       "<div>\n",
       "<style scoped>\n",
       "    .dataframe tbody tr th:only-of-type {\n",
       "        vertical-align: middle;\n",
       "    }\n",
       "\n",
       "    .dataframe tbody tr th {\n",
       "        vertical-align: top;\n",
       "    }\n",
       "\n",
       "    .dataframe thead th {\n",
       "        text-align: right;\n",
       "    }\n",
       "</style>\n",
       "<table border=\"1\" class=\"dataframe\">\n",
       "  <thead>\n",
       "    <tr style=\"text-align: right;\">\n",
       "      <th></th>\n",
       "      <th>Total Players</th>\n",
       "    </tr>\n",
       "  </thead>\n",
       "  <tbody>\n",
       "    <tr>\n",
       "      <th>0</th>\n",
       "      <td>576</td>\n",
       "    </tr>\n",
       "  </tbody>\n",
       "</table>\n",
       "</div>"
      ],
      "text/plain": [
       "   Total Players\n",
       "0            576"
      ]
     },
     "execution_count": 39,
     "metadata": {},
     "output_type": "execute_result"
    }
   ],
   "source": [
    "total_players = purchase_data['SN'].nunique()\n",
    "# print(f\"Total Number of Players: {total_players}\")\n",
    "df_total_players = pd.DataFrame({'Total Players': [total_players]})\n",
    "df_total_players\n"
   ]
  },
  {
   "cell_type": "code",
   "execution_count": 2,
   "metadata": {},
   "outputs": [
    {
     "data": {
      "text/html": [
       "<div>\n",
       "<style scoped>\n",
       "    .dataframe tbody tr th:only-of-type {\n",
       "        vertical-align: middle;\n",
       "    }\n",
       "\n",
       "    .dataframe tbody tr th {\n",
       "        vertical-align: top;\n",
       "    }\n",
       "\n",
       "    .dataframe thead th {\n",
       "        text-align: right;\n",
       "    }\n",
       "</style>\n",
       "<table border=\"1\" class=\"dataframe\">\n",
       "  <thead>\n",
       "    <tr style=\"text-align: right;\">\n",
       "      <th></th>\n",
       "      <th>Total Players</th>\n",
       "    </tr>\n",
       "  </thead>\n",
       "  <tbody>\n",
       "    <tr>\n",
       "      <th>0</th>\n",
       "      <td>576</td>\n",
       "    </tr>\n",
       "  </tbody>\n",
       "</table>\n",
       "</div>"
      ],
      "text/plain": [
       "   Total Players\n",
       "0            576"
      ]
     },
     "execution_count": 2,
     "metadata": {},
     "output_type": "execute_result"
    }
   ],
   "source": []
  },
  {
   "cell_type": "markdown",
   "metadata": {},
   "source": [
    "## Purchasing Analysis (Total)"
   ]
  },
  {
   "cell_type": "markdown",
   "metadata": {},
   "source": [
    "* Run basic calculations to obtain number of unique items, average price, etc.\n",
    "* Create a summary data frame to hold the results\n",
    "* Display the summary data frame"
   ]
  },
  {
   "cell_type": "code",
   "execution_count": 56,
   "metadata": {},
   "outputs": [
    {
     "data": {
      "text/html": [
       "<style type=\"text/css\">\n",
       "</style>\n",
       "<table id=\"T_f9066\">\n",
       "  <thead>\n",
       "    <tr>\n",
       "      <th class=\"blank level0\" >&nbsp;</th>\n",
       "      <th id=\"T_f9066_level0_col0\" class=\"col_heading level0 col0\" >Number of Unique Items</th>\n",
       "      <th id=\"T_f9066_level0_col1\" class=\"col_heading level0 col1\" >Average Price</th>\n",
       "      <th id=\"T_f9066_level0_col2\" class=\"col_heading level0 col2\" >Number of Purchases</th>\n",
       "      <th id=\"T_f9066_level0_col3\" class=\"col_heading level0 col3\" >Total Revenue</th>\n",
       "    </tr>\n",
       "  </thead>\n",
       "  <tbody>\n",
       "    <tr>\n",
       "      <th id=\"T_f9066_level0_row0\" class=\"row_heading level0 row0\" >0</th>\n",
       "      <td id=\"T_f9066_row0_col0\" class=\"data row0 col0\" >183</td>\n",
       "      <td id=\"T_f9066_row0_col1\" class=\"data row0 col1\" >$3.05</td>\n",
       "      <td id=\"T_f9066_row0_col2\" class=\"data row0 col2\" >780</td>\n",
       "      <td id=\"T_f9066_row0_col3\" class=\"data row0 col3\" >$2,379.77</td>\n",
       "    </tr>\n",
       "  </tbody>\n",
       "</table>\n"
      ],
      "text/plain": [
       "<pandas.io.formats.style.Styler at 0x2172fbce680>"
      ]
     },
     "execution_count": 56,
     "metadata": {},
     "output_type": "execute_result"
    }
   ],
   "source": [
    "# total number of unique items\n",
    "unique_items = purchase_data['Item ID'].nunique()\n",
    "\n",
    "# average purchase price\n",
    "average_price = purchase_data['Price'].mean()\n",
    "\n",
    "# total number of purchases\n",
    "total_purchases = purchase_data['Purchase ID'].count()\n",
    "\n",
    "# total revenue\n",
    "total_revenue = purchase_data['Price'].sum()\n",
    "\n",
    "purchasing_summary = pd.DataFrame({\n",
    "    'Number of Unique Items': [unique_items],\n",
    "    'Average Price': [average_price],\n",
    "    'Number of Purchases': [total_purchases],\n",
    "    'Total Revenue': [total_revenue]\n",
    "})\n",
    "purchasing_summary['Average Price'] = purchasing_summary['Average Price'].round(2)\n",
    "purchasing_summary = purchasing_summary.style.format({\n",
    "    'Average Price': \"${:.2f}\",\n",
    "    'Total Revenue': \"${:,.2f}\"\n",
    "})\n",
    "# print(purchasing_summary)\n",
    "purchasing_summary\n"
   ]
  },
  {
   "cell_type": "code",
   "execution_count": 3,
   "metadata": {
    "scrolled": true
   },
   "outputs": [
    {
     "data": {
      "text/html": [
       "<style  type=\"text/css\" >\n",
       "</style><table id=\"T_04f2b8d0_4411_11e9_97a1_9822ef93214c\" ><thead>    <tr>        <th class=\"blank level0\" ></th>        <th class=\"col_heading level0 col0\" >Number of Unique Items</th>        <th class=\"col_heading level0 col1\" >Average Price</th>        <th class=\"col_heading level0 col2\" >Number of Purchases</th>        <th class=\"col_heading level0 col3\" >Total Revenue</th>    </tr></thead><tbody>\n",
       "                <tr>\n",
       "                        <th id=\"T_04f2b8d0_4411_11e9_97a1_9822ef93214clevel0_row0\" class=\"row_heading level0 row0\" >0</th>\n",
       "                        <td id=\"T_04f2b8d0_4411_11e9_97a1_9822ef93214crow0_col0\" class=\"data row0 col0\" >183</td>\n",
       "                        <td id=\"T_04f2b8d0_4411_11e9_97a1_9822ef93214crow0_col1\" class=\"data row0 col1\" >$3.05</td>\n",
       "                        <td id=\"T_04f2b8d0_4411_11e9_97a1_9822ef93214crow0_col2\" class=\"data row0 col2\" >780</td>\n",
       "                        <td id=\"T_04f2b8d0_4411_11e9_97a1_9822ef93214crow0_col3\" class=\"data row0 col3\" >$2,379.77</td>\n",
       "            </tr>\n",
       "    </tbody></table>"
      ],
      "text/plain": [
       "<pandas.io.formats.style.Styler at 0x5a3b890>"
      ]
     },
     "execution_count": 3,
     "metadata": {},
     "output_type": "execute_result"
    }
   ],
   "source": []
  },
  {
   "cell_type": "markdown",
   "metadata": {},
   "source": [
    "## Gender Demographics"
   ]
  },
  {
   "cell_type": "markdown",
   "metadata": {},
   "source": [
    "* Percentage and Count of Male Players\n",
    "\n",
    "\n",
    "* Percentage and Count of Female Players\n",
    "\n",
    "\n",
    "* Percentage and Count of Other / Non-Disclosed\n",
    "\n",
    "\n"
   ]
  },
  {
   "cell_type": "code",
   "execution_count": 57,
   "metadata": {},
   "outputs": [
    {
     "name": "stderr",
     "output_type": "stream",
     "text": [
      "C:\\Users\\ed069\\AppData\\Local\\Temp\\ipykernel_28220\\691572187.py:32: FutureWarning: this method is deprecated in favour of `Styler.hide(axis='index')`\n",
      "  styled_gender_demographics = gender_demographics.style.hide_index().format({\n"
     ]
    },
    {
     "data": {
      "text/html": [
       "<style type=\"text/css\">\n",
       "</style>\n",
       "<table id=\"T_64017\">\n",
       "  <thead>\n",
       "    <tr>\n",
       "      <th id=\"T_64017_level0_col0\" class=\"col_heading level0 col0\" ></th>\n",
       "      <th id=\"T_64017_level0_col1\" class=\"col_heading level0 col1\" >Percentage of Players</th>\n",
       "      <th id=\"T_64017_level0_col2\" class=\"col_heading level0 col2\" >Total Count</th>\n",
       "    </tr>\n",
       "  </thead>\n",
       "  <tbody>\n",
       "    <tr>\n",
       "      <td id=\"T_64017_row0_col0\" class=\"data row0 col0\" >Male</td>\n",
       "      <td id=\"T_64017_row0_col1\" class=\"data row0 col1\" >84.03</td>\n",
       "      <td id=\"T_64017_row0_col2\" class=\"data row0 col2\" >484</td>\n",
       "    </tr>\n",
       "    <tr>\n",
       "      <td id=\"T_64017_row1_col0\" class=\"data row1 col0\" >Female</td>\n",
       "      <td id=\"T_64017_row1_col1\" class=\"data row1 col1\" >14.06</td>\n",
       "      <td id=\"T_64017_row1_col2\" class=\"data row1 col2\" >81</td>\n",
       "    </tr>\n",
       "    <tr>\n",
       "      <td id=\"T_64017_row2_col0\" class=\"data row2 col0\" >Other / Non-Disclosed</td>\n",
       "      <td id=\"T_64017_row2_col1\" class=\"data row2 col1\" >1.91</td>\n",
       "      <td id=\"T_64017_row2_col2\" class=\"data row2 col2\" >11</td>\n",
       "    </tr>\n",
       "  </tbody>\n",
       "</table>\n"
      ],
      "text/plain": [
       "<pandas.io.formats.style.Styler at 0x2172e9b28f0>"
      ]
     },
     "execution_count": 57,
     "metadata": {},
     "output_type": "execute_result"
    }
   ],
   "source": [
    "total_players = purchase_data['SN'].nunique()\n",
    "gender_counts = purchase_data.groupby('Gender')['SN'].nunique().sort_values(ascending=False)\n",
    "gender_percentage = (gender_counts / total_players) * 100\n",
    "\n",
    "# combine counts and percentages into a DataFrame\n",
    "gender_demographics = pd.DataFrame({\n",
    "    'Percentage of Players': gender_percentage.round(2),\n",
    "    'Total Count': gender_counts\n",
    "})\n",
    "\n",
    "# reset the index to turn 'Gender' into a column\n",
    "gender_demographics = gender_demographics.reset_index()\n",
    "\n",
    "# rename the 'Gender' column to an empty string to remove the header\n",
    "gender_demographics = gender_demographics.rename(columns={'Gender': ''})\n",
    "\n",
    "# ensure the order of genders (if needed)\n",
    "desired_order = ['Male', 'Female', 'Other / Non-Disclosed']\n",
    "gender_demographics[''] = pd.Categorical(\n",
    "    gender_demographics[''],\n",
    "    categories=desired_order,\n",
    "    ordered=True\n",
    ")\n",
    "gender_demographics = gender_demographics.sort_values('')\n",
    "\n",
    "styled_gender_demographics = gender_demographics.style.hide_index().format({\n",
    "    'Percentage of Players': \"{:.2f}\"\n",
    "})\n",
    "\n",
    "styled_gender_demographics"
   ]
  },
  {
   "cell_type": "code",
   "execution_count": 4,
   "metadata": {},
   "outputs": [
    {
     "data": {
      "text/html": [
       "<style  type=\"text/css\" >\n",
       "</style><table id=\"T_04fbce02_4411_11e9_91d5_9822ef93214c\" ><thead>    <tr>        <th class=\"blank level0\" ></th>        <th class=\"col_heading level0 col0\" >Percentage of Players</th>        <th class=\"col_heading level0 col1\" >Total Count</th>    </tr></thead><tbody>\n",
       "                <tr>\n",
       "                        <th id=\"T_04fbce02_4411_11e9_91d5_9822ef93214clevel0_row0\" class=\"row_heading level0 row0\" >Male</th>\n",
       "                        <td id=\"T_04fbce02_4411_11e9_91d5_9822ef93214crow0_col0\" class=\"data row0 col0\" >84.03</td>\n",
       "                        <td id=\"T_04fbce02_4411_11e9_91d5_9822ef93214crow0_col1\" class=\"data row0 col1\" >484</td>\n",
       "            </tr>\n",
       "            <tr>\n",
       "                        <th id=\"T_04fbce02_4411_11e9_91d5_9822ef93214clevel0_row1\" class=\"row_heading level0 row1\" >Female</th>\n",
       "                        <td id=\"T_04fbce02_4411_11e9_91d5_9822ef93214crow1_col0\" class=\"data row1 col0\" >14.06</td>\n",
       "                        <td id=\"T_04fbce02_4411_11e9_91d5_9822ef93214crow1_col1\" class=\"data row1 col1\" >81</td>\n",
       "            </tr>\n",
       "            <tr>\n",
       "                        <th id=\"T_04fbce02_4411_11e9_91d5_9822ef93214clevel0_row2\" class=\"row_heading level0 row2\" >Other / Non-Disclosed</th>\n",
       "                        <td id=\"T_04fbce02_4411_11e9_91d5_9822ef93214crow2_col0\" class=\"data row2 col0\" >1.91</td>\n",
       "                        <td id=\"T_04fbce02_4411_11e9_91d5_9822ef93214crow2_col1\" class=\"data row2 col1\" >11</td>\n",
       "            </tr>\n",
       "    </tbody></table>"
      ],
      "text/plain": [
       "<pandas.io.formats.style.Styler at 0xc1c7750>"
      ]
     },
     "execution_count": 4,
     "metadata": {},
     "output_type": "execute_result"
    }
   ],
   "source": []
  },
  {
   "cell_type": "markdown",
   "metadata": {},
   "source": [
    "\n",
    "## Purchasing Analysis (Gender)"
   ]
  },
  {
   "cell_type": "markdown",
   "metadata": {},
   "source": [
    "* Run basic calculations to obtain below values by gender\n",
    "  * Purchase Count\n",
    "  * Average Purchase Price  \n",
    "  * Total Purchase Value\n",
    "  * Average Purchase Total per Person by Gender\n",
    "* Create a summary data frame to hold the results\n",
    "* Display the summary data frame"
   ]
  },
  {
   "cell_type": "code",
   "execution_count": 83,
   "metadata": {},
   "outputs": [
    {
     "name": "stderr",
     "output_type": "stream",
     "text": [
      "C:\\Users\\ed069\\AppData\\Local\\Temp\\ipykernel_28220\\204156627.py:38: FutureWarning: this method is deprecated in favour of `Styler.hide(axis='index')`\n",
      "  styled_gender_purchasing_summary = gender_purchasing_summary.style.hide_index().format({\n"
     ]
    },
    {
     "data": {
      "text/html": [
       "<style type=\"text/css\">\n",
       "</style>\n",
       "<table id=\"T_24342\">\n",
       "  <thead>\n",
       "    <tr>\n",
       "      <th id=\"T_24342_level0_col0\" class=\"col_heading level0 col0\" >Gender</th>\n",
       "      <th id=\"T_24342_level0_col1\" class=\"col_heading level0 col1\" >Purchase Count</th>\n",
       "      <th id=\"T_24342_level0_col2\" class=\"col_heading level0 col2\" >Average Purchase Price</th>\n",
       "      <th id=\"T_24342_level0_col3\" class=\"col_heading level0 col3\" >Total Purchase Value</th>\n",
       "      <th id=\"T_24342_level0_col4\" class=\"col_heading level0 col4\" >Avg Purchase Total per Person</th>\n",
       "    </tr>\n",
       "  </thead>\n",
       "  <tbody>\n",
       "    <tr>\n",
       "      <td id=\"T_24342_row0_col0\" class=\"data row0 col0\" >Female</td>\n",
       "      <td id=\"T_24342_row0_col1\" class=\"data row0 col1\" >113</td>\n",
       "      <td id=\"T_24342_row0_col2\" class=\"data row0 col2\" >3.20301</td>\n",
       "      <td id=\"T_24342_row0_col3\" class=\"data row0 col3\" >361.94</td>\n",
       "      <td id=\"T_24342_row0_col4\" class=\"data row0 col4\" >$4.47</td>\n",
       "    </tr>\n",
       "    <tr>\n",
       "      <td id=\"T_24342_row1_col0\" class=\"data row1 col0\" >Male</td>\n",
       "      <td id=\"T_24342_row1_col1\" class=\"data row1 col1\" >652</td>\n",
       "      <td id=\"T_24342_row1_col2\" class=\"data row1 col2\" >3.01785</td>\n",
       "      <td id=\"T_24342_row1_col3\" class=\"data row1 col3\" >1967.64</td>\n",
       "      <td id=\"T_24342_row1_col4\" class=\"data row1 col4\" >$4.07</td>\n",
       "    </tr>\n",
       "    <tr>\n",
       "      <td id=\"T_24342_row2_col0\" class=\"data row2 col0\" >Other / Non-Disclosed</td>\n",
       "      <td id=\"T_24342_row2_col1\" class=\"data row2 col1\" >15</td>\n",
       "      <td id=\"T_24342_row2_col2\" class=\"data row2 col2\" >3.346</td>\n",
       "      <td id=\"T_24342_row2_col3\" class=\"data row2 col3\" >50.19</td>\n",
       "      <td id=\"T_24342_row2_col4\" class=\"data row2 col4\" >$4.56</td>\n",
       "    </tr>\n",
       "  </tbody>\n",
       "</table>\n"
      ],
      "text/plain": [
       "<pandas.io.formats.style.Styler at 0x2172fc230a0>"
      ]
     },
     "execution_count": 83,
     "metadata": {},
     "output_type": "execute_result"
    }
   ],
   "source": [
    "# Count unique players by gender\n",
    "gender_counts = purchase_data.groupby('Gender')['SN'].nunique().sort_values(ascending=False)\n",
    "\n",
    "# Group data by gender\n",
    "gender_purchase = purchase_data.groupby('Gender')\n",
    "\n",
    "# Purchase count by gender\n",
    "purchase_count = gender_purchase['Purchase ID'].count()\n",
    "\n",
    "# Average purchase price by gender\n",
    "avg_purchase_price = gender_purchase['Price'].mean()\n",
    "\n",
    "# Total purchase value by gender\n",
    "total_purchase = gender_purchase['Price'].sum()\n",
    "\n",
    "# Average purchase total per person by gender\n",
    "avg_purchase_per_person = total_purchase / gender_counts\n",
    "\n",
    "# Combine counts and calculations into a DataFrame\n",
    "gender_purchasing_summary = pd.DataFrame({\n",
    "    'Purchase Count': purchase_count,\n",
    "    'Average Purchase Price': avg_purchase_price,\n",
    "    'Total Purchase Value': total_purchase,\n",
    "    'Avg Purchase Total per Person': avg_purchase_per_person.round(2)  # Renamed here\n",
    "})\n",
    "\n",
    "# Reset the index to turn 'Gender' into a column\n",
    "gender_purchasing_summary = gender_purchasing_summary.reset_index()\n",
    "\n",
    "gender_purchasing_summary = gender_purchasing_summary.sort_values('Gender')\n",
    "def format_float(x, decimals=5):\n",
    "    if pd.isnull(x):\n",
    "        return x\n",
    "    formatted = f\"{x:.{decimals}f}\".rstrip('0')\n",
    "    return formatted\n",
    "\n",
    "# Apply styling: hide index, format columns\n",
    "styled_gender_purchasing_summary = gender_purchasing_summary.style.hide_index().format({\n",
    "    'Average Purchase Price': format_float,\n",
    "    'Total Purchase Value': \"{:.2f}\",\n",
    "    'Avg Purchase Total per Person': \"${:.2f}\"\n",
    "})\n",
    "\n",
    "# Display the styled DataFrame\n",
    "styled_gender_purchasing_summary"
   ]
  },
  {
   "cell_type": "code",
   "execution_count": 5,
   "metadata": {},
   "outputs": [
    {
     "data": {
      "text/html": [
       "<style  type=\"text/css\" >\n",
       "</style><table id=\"T_0501c9ae_4411_11e9_8908_9822ef93214c\" ><thead>    <tr>        <th class=\"blank level0\" ></th>        <th class=\"col_heading level0 col0\" >Purchase Count</th>        <th class=\"col_heading level0 col1\" >Average Purchase Price</th>        <th class=\"col_heading level0 col2\" >Total Purchase Value</th>        <th class=\"col_heading level0 col3\" >Avg Purchase Total per Person</th>    </tr>    <tr>        <th class=\"index_name level0\" >Gender</th>        <th class=\"blank\" ></th>        <th class=\"blank\" ></th>        <th class=\"blank\" ></th>        <th class=\"blank\" ></th>    </tr></thead><tbody>\n",
       "                <tr>\n",
       "                        <th id=\"T_0501c9ae_4411_11e9_8908_9822ef93214clevel0_row0\" class=\"row_heading level0 row0\" >Female</th>\n",
       "                        <td id=\"T_0501c9ae_4411_11e9_8908_9822ef93214crow0_col0\" class=\"data row0 col0\" >113</td>\n",
       "                        <td id=\"T_0501c9ae_4411_11e9_8908_9822ef93214crow0_col1\" class=\"data row0 col1\" >3.20301</td>\n",
       "                        <td id=\"T_0501c9ae_4411_11e9_8908_9822ef93214crow0_col2\" class=\"data row0 col2\" >361.94</td>\n",
       "                        <td id=\"T_0501c9ae_4411_11e9_8908_9822ef93214crow0_col3\" class=\"data row0 col3\" >$4.47</td>\n",
       "            </tr>\n",
       "            <tr>\n",
       "                        <th id=\"T_0501c9ae_4411_11e9_8908_9822ef93214clevel0_row1\" class=\"row_heading level0 row1\" >Male</th>\n",
       "                        <td id=\"T_0501c9ae_4411_11e9_8908_9822ef93214crow1_col0\" class=\"data row1 col0\" >652</td>\n",
       "                        <td id=\"T_0501c9ae_4411_11e9_8908_9822ef93214crow1_col1\" class=\"data row1 col1\" >3.01785</td>\n",
       "                        <td id=\"T_0501c9ae_4411_11e9_8908_9822ef93214crow1_col2\" class=\"data row1 col2\" >1967.64</td>\n",
       "                        <td id=\"T_0501c9ae_4411_11e9_8908_9822ef93214crow1_col3\" class=\"data row1 col3\" >$4.07</td>\n",
       "            </tr>\n",
       "            <tr>\n",
       "                        <th id=\"T_0501c9ae_4411_11e9_8908_9822ef93214clevel0_row2\" class=\"row_heading level0 row2\" >Other / Non-Disclosed</th>\n",
       "                        <td id=\"T_0501c9ae_4411_11e9_8908_9822ef93214crow2_col0\" class=\"data row2 col0\" >15</td>\n",
       "                        <td id=\"T_0501c9ae_4411_11e9_8908_9822ef93214crow2_col1\" class=\"data row2 col1\" >3.346</td>\n",
       "                        <td id=\"T_0501c9ae_4411_11e9_8908_9822ef93214crow2_col2\" class=\"data row2 col2\" >50.19</td>\n",
       "                        <td id=\"T_0501c9ae_4411_11e9_8908_9822ef93214crow2_col3\" class=\"data row2 col3\" >$4.56</td>\n",
       "            </tr>\n",
       "    </tbody></table>"
      ],
      "text/plain": [
       "<pandas.io.formats.style.Styler at 0xc1c7310>"
      ]
     },
     "execution_count": 5,
     "metadata": {},
     "output_type": "execute_result"
    }
   ],
   "source": []
  },
  {
   "cell_type": "markdown",
   "metadata": {},
   "source": [
    "## Age Demographics"
   ]
  },
  {
   "cell_type": "markdown",
   "metadata": {},
   "source": [
    "* Categorize players using the age groups. Hint: use pd.cut()\n",
    "  * each group is for 4 years (i.e. &lt;10, 10-14, 15-19, etc.)\n",
    "* Calculate the numbers and percentages by age group\n",
    "* Create a summary data frame to hold the results\n",
    "* round the percentage column to two decimal points\n",
    "* Display Age Demographics Table"
   ]
  },
  {
   "cell_type": "code",
   "execution_count": 86,
   "metadata": {},
   "outputs": [
    {
     "name": "stderr",
     "output_type": "stream",
     "text": [
      "C:\\Users\\ed069\\AppData\\Local\\Temp\\ipykernel_28220\\1802100824.py:32: FutureWarning: this method is deprecated in favour of `Styler.hide(axis='index')`\n",
      "  styled_age_demographics = age_demographics.style.hide_index().format({\n"
     ]
    },
    {
     "data": {
      "text/html": [
       "<style type=\"text/css\">\n",
       "</style>\n",
       "<table id=\"T_ce827\">\n",
       "  <thead>\n",
       "    <tr>\n",
       "      <th id=\"T_ce827_level0_col0\" class=\"col_heading level0 col0\" ></th>\n",
       "      <th id=\"T_ce827_level0_col1\" class=\"col_heading level0 col1\" >Percentage of Players</th>\n",
       "      <th id=\"T_ce827_level0_col2\" class=\"col_heading level0 col2\" >Total Count</th>\n",
       "    </tr>\n",
       "  </thead>\n",
       "  <tbody>\n",
       "    <tr>\n",
       "      <td id=\"T_ce827_row0_col0\" class=\"data row0 col0\" ><10</td>\n",
       "      <td id=\"T_ce827_row0_col1\" class=\"data row0 col1\" >2.95</td>\n",
       "      <td id=\"T_ce827_row0_col2\" class=\"data row0 col2\" >17</td>\n",
       "    </tr>\n",
       "    <tr>\n",
       "      <td id=\"T_ce827_row1_col0\" class=\"data row1 col0\" >10-14</td>\n",
       "      <td id=\"T_ce827_row1_col1\" class=\"data row1 col1\" >3.82</td>\n",
       "      <td id=\"T_ce827_row1_col2\" class=\"data row1 col2\" >22</td>\n",
       "    </tr>\n",
       "    <tr>\n",
       "      <td id=\"T_ce827_row2_col0\" class=\"data row2 col0\" >15-19</td>\n",
       "      <td id=\"T_ce827_row2_col1\" class=\"data row2 col1\" >18.58</td>\n",
       "      <td id=\"T_ce827_row2_col2\" class=\"data row2 col2\" >107</td>\n",
       "    </tr>\n",
       "    <tr>\n",
       "      <td id=\"T_ce827_row3_col0\" class=\"data row3 col0\" >20-24</td>\n",
       "      <td id=\"T_ce827_row3_col1\" class=\"data row3 col1\" >44.79</td>\n",
       "      <td id=\"T_ce827_row3_col2\" class=\"data row3 col2\" >258</td>\n",
       "    </tr>\n",
       "    <tr>\n",
       "      <td id=\"T_ce827_row4_col0\" class=\"data row4 col0\" >25-29</td>\n",
       "      <td id=\"T_ce827_row4_col1\" class=\"data row4 col1\" >13.37</td>\n",
       "      <td id=\"T_ce827_row4_col2\" class=\"data row4 col2\" >77</td>\n",
       "    </tr>\n",
       "    <tr>\n",
       "      <td id=\"T_ce827_row5_col0\" class=\"data row5 col0\" >30-34</td>\n",
       "      <td id=\"T_ce827_row5_col1\" class=\"data row5 col1\" >9.03</td>\n",
       "      <td id=\"T_ce827_row5_col2\" class=\"data row5 col2\" >52</td>\n",
       "    </tr>\n",
       "    <tr>\n",
       "      <td id=\"T_ce827_row6_col0\" class=\"data row6 col0\" >35-39</td>\n",
       "      <td id=\"T_ce827_row6_col1\" class=\"data row6 col1\" >5.38</td>\n",
       "      <td id=\"T_ce827_row6_col2\" class=\"data row6 col2\" >31</td>\n",
       "    </tr>\n",
       "    <tr>\n",
       "      <td id=\"T_ce827_row7_col0\" class=\"data row7 col0\" >40+</td>\n",
       "      <td id=\"T_ce827_row7_col1\" class=\"data row7 col1\" >2.08</td>\n",
       "      <td id=\"T_ce827_row7_col2\" class=\"data row7 col2\" >12</td>\n",
       "    </tr>\n",
       "  </tbody>\n",
       "</table>\n"
      ],
      "text/plain": [
       "<pandas.io.formats.style.Styler at 0x2172fc229e0>"
      ]
     },
     "execution_count": 86,
     "metadata": {},
     "output_type": "execute_result"
    }
   ],
   "source": [
    "# define age bins and labels\n",
    "age_bins = [0, 10, 15, 20, 25, 30, 35, 40, np.inf]  # Added <10 and 40+\n",
    "age_labels = ['<10', '10-14', '15-19', '20-24', '25-29', '30-34', '35-39', '40+']  # Corresponding labels\n",
    "\n",
    "# categorize players into age groups\n",
    "purchase_data['Age Group'] = pd.cut(\n",
    "    purchase_data['Age'],\n",
    "    bins=age_bins,\n",
    "    labels=age_labels,\n",
    "    right=False\n",
    ")\n",
    "\n",
    "total_players = purchase_data['SN'].nunique()\n",
    "\n",
    "age_counts = purchase_data.groupby('Age Group')['SN'].nunique()\n",
    "\n",
    "age_percentage = (age_counts / total_players) * 100\n",
    "\n",
    "age_demographics = pd.DataFrame({\n",
    "    'Percentage of Players': age_percentage,\n",
    "    'Total Count': age_counts\n",
    "}).reset_index()\n",
    "\n",
    "# ensure the Age Groups are in the desired order\n",
    "age_demographics['Age Group'] = pd.Categorical(\n",
    "    age_demographics['Age Group'],\n",
    "    categories=age_labels,\n",
    "    ordered=True\n",
    ")\n",
    "age_demographics = age_demographics.sort_values('Age Group')\n",
    "age_demographics = age_demographics.rename(columns={'Age Group': ''})\n",
    "styled_age_demographics = age_demographics.style.hide_index().format({\n",
    "    'Percentage of Players': \"{:.2f}\"\n",
    "})\n",
    "styled_age_demographics"
   ]
  },
  {
   "cell_type": "code",
   "execution_count": 6,
   "metadata": {},
   "outputs": [
    {
     "data": {
      "text/html": [
       "<style  type=\"text/css\" >\n",
       "</style><table id=\"T_050994da_4411_11e9_894a_9822ef93214c\" ><thead>    <tr>        <th class=\"blank level0\" ></th>        <th class=\"col_heading level0 col0\" >Percentage of Players</th>        <th class=\"col_heading level0 col1\" >Total Count</th>    </tr></thead><tbody>\n",
       "                <tr>\n",
       "                        <th id=\"T_050994da_4411_11e9_894a_9822ef93214clevel0_row0\" class=\"row_heading level0 row0\" ><10</th>\n",
       "                        <td id=\"T_050994da_4411_11e9_894a_9822ef93214crow0_col0\" class=\"data row0 col0\" >2.95</td>\n",
       "                        <td id=\"T_050994da_4411_11e9_894a_9822ef93214crow0_col1\" class=\"data row0 col1\" >17</td>\n",
       "            </tr>\n",
       "            <tr>\n",
       "                        <th id=\"T_050994da_4411_11e9_894a_9822ef93214clevel0_row1\" class=\"row_heading level0 row1\" >10-14</th>\n",
       "                        <td id=\"T_050994da_4411_11e9_894a_9822ef93214crow1_col0\" class=\"data row1 col0\" >3.82</td>\n",
       "                        <td id=\"T_050994da_4411_11e9_894a_9822ef93214crow1_col1\" class=\"data row1 col1\" >22</td>\n",
       "            </tr>\n",
       "            <tr>\n",
       "                        <th id=\"T_050994da_4411_11e9_894a_9822ef93214clevel0_row2\" class=\"row_heading level0 row2\" >15-19</th>\n",
       "                        <td id=\"T_050994da_4411_11e9_894a_9822ef93214crow2_col0\" class=\"data row2 col0\" >18.58</td>\n",
       "                        <td id=\"T_050994da_4411_11e9_894a_9822ef93214crow2_col1\" class=\"data row2 col1\" >107</td>\n",
       "            </tr>\n",
       "            <tr>\n",
       "                        <th id=\"T_050994da_4411_11e9_894a_9822ef93214clevel0_row3\" class=\"row_heading level0 row3\" >20-24</th>\n",
       "                        <td id=\"T_050994da_4411_11e9_894a_9822ef93214crow3_col0\" class=\"data row3 col0\" >44.79</td>\n",
       "                        <td id=\"T_050994da_4411_11e9_894a_9822ef93214crow3_col1\" class=\"data row3 col1\" >258</td>\n",
       "            </tr>\n",
       "            <tr>\n",
       "                        <th id=\"T_050994da_4411_11e9_894a_9822ef93214clevel0_row4\" class=\"row_heading level0 row4\" >25-29</th>\n",
       "                        <td id=\"T_050994da_4411_11e9_894a_9822ef93214crow4_col0\" class=\"data row4 col0\" >13.37</td>\n",
       "                        <td id=\"T_050994da_4411_11e9_894a_9822ef93214crow4_col1\" class=\"data row4 col1\" >77</td>\n",
       "            </tr>\n",
       "            <tr>\n",
       "                        <th id=\"T_050994da_4411_11e9_894a_9822ef93214clevel0_row5\" class=\"row_heading level0 row5\" >30-34</th>\n",
       "                        <td id=\"T_050994da_4411_11e9_894a_9822ef93214crow5_col0\" class=\"data row5 col0\" >9.03</td>\n",
       "                        <td id=\"T_050994da_4411_11e9_894a_9822ef93214crow5_col1\" class=\"data row5 col1\" >52</td>\n",
       "            </tr>\n",
       "            <tr>\n",
       "                        <th id=\"T_050994da_4411_11e9_894a_9822ef93214clevel0_row6\" class=\"row_heading level0 row6\" >35-39</th>\n",
       "                        <td id=\"T_050994da_4411_11e9_894a_9822ef93214crow6_col0\" class=\"data row6 col0\" >5.38</td>\n",
       "                        <td id=\"T_050994da_4411_11e9_894a_9822ef93214crow6_col1\" class=\"data row6 col1\" >31</td>\n",
       "            </tr>\n",
       "            <tr>\n",
       "                        <th id=\"T_050994da_4411_11e9_894a_9822ef93214clevel0_row7\" class=\"row_heading level0 row7\" >40+</th>\n",
       "                        <td id=\"T_050994da_4411_11e9_894a_9822ef93214crow7_col0\" class=\"data row7 col0\" >2.08</td>\n",
       "                        <td id=\"T_050994da_4411_11e9_894a_9822ef93214crow7_col1\" class=\"data row7 col1\" >12</td>\n",
       "            </tr>\n",
       "    </tbody></table>"
      ],
      "text/plain": [
       "<pandas.io.formats.style.Styler at 0xc1b5d70>"
      ]
     },
     "execution_count": 6,
     "metadata": {},
     "output_type": "execute_result"
    }
   ],
   "source": []
  },
  {
   "cell_type": "markdown",
   "metadata": {},
   "source": [
    "## Purchasing Analysis (Age)"
   ]
  },
  {
   "cell_type": "markdown",
   "metadata": {},
   "source": [
    "* The below each broken into groups of 4 years (i.e. &lt;10, 10-14, 15-19, etc.)\n",
    "  * Purchase Count\n",
    "  * Average Purchase Price\n",
    "  * Total Purchase Value\n",
    "  * Average Purchase Total per Person by Age Group\n",
    "* Bin the purchase_data data frame by age\n",
    "* Run basic calculations to obtain purchase count, avg. purchase price, avg. purchase total per person etc. in the table below\n",
    "* Create a summary data frame to hold the results\n",
    "* Display the summary data frame"
   ]
  },
  {
   "cell_type": "code",
   "execution_count": 89,
   "metadata": {},
   "outputs": [
    {
     "name": "stderr",
     "output_type": "stream",
     "text": [
      "C:\\Users\\ed069\\AppData\\Local\\Temp\\ipykernel_28220\\3650420031.py:29: FutureWarning: this method is deprecated in favour of `Styler.hide(axis='index')`\n",
      "  purchasing_analysis_age = purchasing_analysis_age.style.hide_index().format({\n"
     ]
    },
    {
     "data": {
      "text/html": [
       "<style type=\"text/css\">\n",
       "</style>\n",
       "<table id=\"T_5a136\">\n",
       "  <thead>\n",
       "    <tr>\n",
       "      <th id=\"T_5a136_level0_col0\" class=\"col_heading level0 col0\" ></th>\n",
       "      <th id=\"T_5a136_level0_col1\" class=\"col_heading level0 col1\" >Purchase Count</th>\n",
       "      <th id=\"T_5a136_level0_col2\" class=\"col_heading level0 col2\" >Average Purchase Price</th>\n",
       "      <th id=\"T_5a136_level0_col3\" class=\"col_heading level0 col3\" >Total Purchase Value</th>\n",
       "      <th id=\"T_5a136_level0_col4\" class=\"col_heading level0 col4\" >Average Purchase Total per Person</th>\n",
       "    </tr>\n",
       "  </thead>\n",
       "  <tbody>\n",
       "    <tr>\n",
       "      <td id=\"T_5a136_row0_col0\" class=\"data row0 col0\" ><10</td>\n",
       "      <td id=\"T_5a136_row0_col1\" class=\"data row0 col1\" >23</td>\n",
       "      <td id=\"T_5a136_row0_col2\" class=\"data row0 col2\" >$3.35</td>\n",
       "      <td id=\"T_5a136_row0_col3\" class=\"data row0 col3\" >$77.13</td>\n",
       "      <td id=\"T_5a136_row0_col4\" class=\"data row0 col4\" >$4.54</td>\n",
       "    </tr>\n",
       "    <tr>\n",
       "      <td id=\"T_5a136_row1_col0\" class=\"data row1 col0\" >10-14</td>\n",
       "      <td id=\"T_5a136_row1_col1\" class=\"data row1 col1\" >28</td>\n",
       "      <td id=\"T_5a136_row1_col2\" class=\"data row1 col2\" >$2.96</td>\n",
       "      <td id=\"T_5a136_row1_col3\" class=\"data row1 col3\" >$82.78</td>\n",
       "      <td id=\"T_5a136_row1_col4\" class=\"data row1 col4\" >$3.76</td>\n",
       "    </tr>\n",
       "    <tr>\n",
       "      <td id=\"T_5a136_row2_col0\" class=\"data row2 col0\" >15-19</td>\n",
       "      <td id=\"T_5a136_row2_col1\" class=\"data row2 col1\" >136</td>\n",
       "      <td id=\"T_5a136_row2_col2\" class=\"data row2 col2\" >$3.04</td>\n",
       "      <td id=\"T_5a136_row2_col3\" class=\"data row2 col3\" >$412.89</td>\n",
       "      <td id=\"T_5a136_row2_col4\" class=\"data row2 col4\" >$3.86</td>\n",
       "    </tr>\n",
       "    <tr>\n",
       "      <td id=\"T_5a136_row3_col0\" class=\"data row3 col0\" >20-24</td>\n",
       "      <td id=\"T_5a136_row3_col1\" class=\"data row3 col1\" >365</td>\n",
       "      <td id=\"T_5a136_row3_col2\" class=\"data row3 col2\" >$3.05</td>\n",
       "      <td id=\"T_5a136_row3_col3\" class=\"data row3 col3\" >$1,114.06</td>\n",
       "      <td id=\"T_5a136_row3_col4\" class=\"data row3 col4\" >$4.32</td>\n",
       "    </tr>\n",
       "    <tr>\n",
       "      <td id=\"T_5a136_row4_col0\" class=\"data row4 col0\" >25-29</td>\n",
       "      <td id=\"T_5a136_row4_col1\" class=\"data row4 col1\" >101</td>\n",
       "      <td id=\"T_5a136_row4_col2\" class=\"data row4 col2\" >$2.90</td>\n",
       "      <td id=\"T_5a136_row4_col3\" class=\"data row4 col3\" >$293.00</td>\n",
       "      <td id=\"T_5a136_row4_col4\" class=\"data row4 col4\" >$3.81</td>\n",
       "    </tr>\n",
       "    <tr>\n",
       "      <td id=\"T_5a136_row5_col0\" class=\"data row5 col0\" >30-34</td>\n",
       "      <td id=\"T_5a136_row5_col1\" class=\"data row5 col1\" >73</td>\n",
       "      <td id=\"T_5a136_row5_col2\" class=\"data row5 col2\" >$2.93</td>\n",
       "      <td id=\"T_5a136_row5_col3\" class=\"data row5 col3\" >$214.00</td>\n",
       "      <td id=\"T_5a136_row5_col4\" class=\"data row5 col4\" >$4.12</td>\n",
       "    </tr>\n",
       "    <tr>\n",
       "      <td id=\"T_5a136_row6_col0\" class=\"data row6 col0\" >35-39</td>\n",
       "      <td id=\"T_5a136_row6_col1\" class=\"data row6 col1\" >41</td>\n",
       "      <td id=\"T_5a136_row6_col2\" class=\"data row6 col2\" >$3.60</td>\n",
       "      <td id=\"T_5a136_row6_col3\" class=\"data row6 col3\" >$147.67</td>\n",
       "      <td id=\"T_5a136_row6_col4\" class=\"data row6 col4\" >$4.76</td>\n",
       "    </tr>\n",
       "    <tr>\n",
       "      <td id=\"T_5a136_row7_col0\" class=\"data row7 col0\" >40+</td>\n",
       "      <td id=\"T_5a136_row7_col1\" class=\"data row7 col1\" >13</td>\n",
       "      <td id=\"T_5a136_row7_col2\" class=\"data row7 col2\" >$2.94</td>\n",
       "      <td id=\"T_5a136_row7_col3\" class=\"data row7 col3\" >$38.24</td>\n",
       "      <td id=\"T_5a136_row7_col4\" class=\"data row7 col4\" >$3.19</td>\n",
       "    </tr>\n",
       "  </tbody>\n",
       "</table>\n"
      ],
      "text/plain": [
       "<pandas.io.formats.style.Styler at 0x2172f932e90>"
      ]
     },
     "execution_count": 89,
     "metadata": {},
     "output_type": "execute_result"
    }
   ],
   "source": [
    "# define age bins and labels\n",
    "age_bins = [0, 10, 15, 20, 25, 30, 35, 40, np.inf]  # Added <10 and 40+\n",
    "age_labels = ['<10', '10-14', '15-19', '20-24', '25-29', '30-34', '35-39', '40+']  # Corresponding labels\n",
    "\n",
    "# categorize players into age groups\n",
    "purchase_data['Age Group'] = pd.cut(\n",
    "    purchase_data['Age'],\n",
    "    bins=age_bins,\n",
    "    labels=age_labels,\n",
    "    right=False\n",
    ")\n",
    "\n",
    "# bin the purchase data by age group\n",
    "age_grouped = purchase_data.groupby('Age Group')\n",
    "\n",
    "purchase_count_age = age_grouped['Purchase ID'].count()\n",
    "avg_purchase_price_age = age_grouped['Price'].mean()\n",
    "total_purchase_value_age = age_grouped['Price'].sum()\n",
    "avg_purchase_per_person_age = total_purchase_value_age / age_counts\n",
    "\n",
    "purchasing_analysis_age = pd.DataFrame({\n",
    "    'Purchase Count': purchase_count_age,\n",
    "    'Average Purchase Price': avg_purchase_price_age.round(2),\n",
    "    'Total Purchase Value': total_purchase_value_age.round(2),\n",
    "    'Average Purchase Total per Person': avg_purchase_per_person_age.round(2)\n",
    "}).reset_index()\n",
    "\n",
    "purchasing_analysis_age = purchasing_analysis_age.rename(columns={'Age Group': ''})\n",
    "purchasing_analysis_age = purchasing_analysis_age.style.hide_index().format({\n",
    "    'Average Purchase Price': \"${:,.2f}\",\n",
    "    'Total Purchase Value': \"${:,.2f}\",\n",
    "    'Average Purchase Total per Person': \"${:,.2f}\"\n",
    "})\n",
    "purchasing_analysis_age"
   ]
  },
  {
   "cell_type": "code",
   "execution_count": 7,
   "metadata": {},
   "outputs": [
    {
     "data": {
      "text/html": [
       "<style  type=\"text/css\" >\n",
       "</style><table id=\"T_050fc9cc_4411_11e9_b456_9822ef93214c\" ><thead>    <tr>        <th class=\"blank level0\" ></th>        <th class=\"col_heading level0 col0\" >Purchase Count</th>        <th class=\"col_heading level0 col1\" >Average Purchase Price</th>        <th class=\"col_heading level0 col2\" >Total Purchase Value</th>        <th class=\"col_heading level0 col3\" >Average Purchase Total per Person</th>    </tr></thead><tbody>\n",
       "                <tr>\n",
       "                        <th id=\"T_050fc9cc_4411_11e9_b456_9822ef93214clevel0_row0\" class=\"row_heading level0 row0\" ><10</th>\n",
       "                        <td id=\"T_050fc9cc_4411_11e9_b456_9822ef93214crow0_col0\" class=\"data row0 col0\" >23</td>\n",
       "                        <td id=\"T_050fc9cc_4411_11e9_b456_9822ef93214crow0_col1\" class=\"data row0 col1\" >$3.35</td>\n",
       "                        <td id=\"T_050fc9cc_4411_11e9_b456_9822ef93214crow0_col2\" class=\"data row0 col2\" >$77.13</td>\n",
       "                        <td id=\"T_050fc9cc_4411_11e9_b456_9822ef93214crow0_col3\" class=\"data row0 col3\" >$4.54</td>\n",
       "            </tr>\n",
       "            <tr>\n",
       "                        <th id=\"T_050fc9cc_4411_11e9_b456_9822ef93214clevel0_row1\" class=\"row_heading level0 row1\" >10-14</th>\n",
       "                        <td id=\"T_050fc9cc_4411_11e9_b456_9822ef93214crow1_col0\" class=\"data row1 col0\" >28</td>\n",
       "                        <td id=\"T_050fc9cc_4411_11e9_b456_9822ef93214crow1_col1\" class=\"data row1 col1\" >$2.96</td>\n",
       "                        <td id=\"T_050fc9cc_4411_11e9_b456_9822ef93214crow1_col2\" class=\"data row1 col2\" >$82.78</td>\n",
       "                        <td id=\"T_050fc9cc_4411_11e9_b456_9822ef93214crow1_col3\" class=\"data row1 col3\" >$3.76</td>\n",
       "            </tr>\n",
       "            <tr>\n",
       "                        <th id=\"T_050fc9cc_4411_11e9_b456_9822ef93214clevel0_row2\" class=\"row_heading level0 row2\" >15-19</th>\n",
       "                        <td id=\"T_050fc9cc_4411_11e9_b456_9822ef93214crow2_col0\" class=\"data row2 col0\" >136</td>\n",
       "                        <td id=\"T_050fc9cc_4411_11e9_b456_9822ef93214crow2_col1\" class=\"data row2 col1\" >$3.04</td>\n",
       "                        <td id=\"T_050fc9cc_4411_11e9_b456_9822ef93214crow2_col2\" class=\"data row2 col2\" >$412.89</td>\n",
       "                        <td id=\"T_050fc9cc_4411_11e9_b456_9822ef93214crow2_col3\" class=\"data row2 col3\" >$3.86</td>\n",
       "            </tr>\n",
       "            <tr>\n",
       "                        <th id=\"T_050fc9cc_4411_11e9_b456_9822ef93214clevel0_row3\" class=\"row_heading level0 row3\" >20-24</th>\n",
       "                        <td id=\"T_050fc9cc_4411_11e9_b456_9822ef93214crow3_col0\" class=\"data row3 col0\" >365</td>\n",
       "                        <td id=\"T_050fc9cc_4411_11e9_b456_9822ef93214crow3_col1\" class=\"data row3 col1\" >$3.05</td>\n",
       "                        <td id=\"T_050fc9cc_4411_11e9_b456_9822ef93214crow3_col2\" class=\"data row3 col2\" >$1,114.06</td>\n",
       "                        <td id=\"T_050fc9cc_4411_11e9_b456_9822ef93214crow3_col3\" class=\"data row3 col3\" >$4.32</td>\n",
       "            </tr>\n",
       "            <tr>\n",
       "                        <th id=\"T_050fc9cc_4411_11e9_b456_9822ef93214clevel0_row4\" class=\"row_heading level0 row4\" >25-29</th>\n",
       "                        <td id=\"T_050fc9cc_4411_11e9_b456_9822ef93214crow4_col0\" class=\"data row4 col0\" >101</td>\n",
       "                        <td id=\"T_050fc9cc_4411_11e9_b456_9822ef93214crow4_col1\" class=\"data row4 col1\" >$2.90</td>\n",
       "                        <td id=\"T_050fc9cc_4411_11e9_b456_9822ef93214crow4_col2\" class=\"data row4 col2\" >$293.00</td>\n",
       "                        <td id=\"T_050fc9cc_4411_11e9_b456_9822ef93214crow4_col3\" class=\"data row4 col3\" >$3.81</td>\n",
       "            </tr>\n",
       "            <tr>\n",
       "                        <th id=\"T_050fc9cc_4411_11e9_b456_9822ef93214clevel0_row5\" class=\"row_heading level0 row5\" >30-34</th>\n",
       "                        <td id=\"T_050fc9cc_4411_11e9_b456_9822ef93214crow5_col0\" class=\"data row5 col0\" >73</td>\n",
       "                        <td id=\"T_050fc9cc_4411_11e9_b456_9822ef93214crow5_col1\" class=\"data row5 col1\" >$2.93</td>\n",
       "                        <td id=\"T_050fc9cc_4411_11e9_b456_9822ef93214crow5_col2\" class=\"data row5 col2\" >$214.00</td>\n",
       "                        <td id=\"T_050fc9cc_4411_11e9_b456_9822ef93214crow5_col3\" class=\"data row5 col3\" >$4.12</td>\n",
       "            </tr>\n",
       "            <tr>\n",
       "                        <th id=\"T_050fc9cc_4411_11e9_b456_9822ef93214clevel0_row6\" class=\"row_heading level0 row6\" >35-39</th>\n",
       "                        <td id=\"T_050fc9cc_4411_11e9_b456_9822ef93214crow6_col0\" class=\"data row6 col0\" >41</td>\n",
       "                        <td id=\"T_050fc9cc_4411_11e9_b456_9822ef93214crow6_col1\" class=\"data row6 col1\" >$3.60</td>\n",
       "                        <td id=\"T_050fc9cc_4411_11e9_b456_9822ef93214crow6_col2\" class=\"data row6 col2\" >$147.67</td>\n",
       "                        <td id=\"T_050fc9cc_4411_11e9_b456_9822ef93214crow6_col3\" class=\"data row6 col3\" >$4.76</td>\n",
       "            </tr>\n",
       "            <tr>\n",
       "                        <th id=\"T_050fc9cc_4411_11e9_b456_9822ef93214clevel0_row7\" class=\"row_heading level0 row7\" >40+</th>\n",
       "                        <td id=\"T_050fc9cc_4411_11e9_b456_9822ef93214crow7_col0\" class=\"data row7 col0\" >13</td>\n",
       "                        <td id=\"T_050fc9cc_4411_11e9_b456_9822ef93214crow7_col1\" class=\"data row7 col1\" >$2.94</td>\n",
       "                        <td id=\"T_050fc9cc_4411_11e9_b456_9822ef93214crow7_col2\" class=\"data row7 col2\" >$38.24</td>\n",
       "                        <td id=\"T_050fc9cc_4411_11e9_b456_9822ef93214crow7_col3\" class=\"data row7 col3\" >$3.19</td>\n",
       "            </tr>\n",
       "    </tbody></table>"
      ],
      "text/plain": [
       "<pandas.io.formats.style.Styler at 0x5a3b9f0>"
      ]
     },
     "execution_count": 7,
     "metadata": {},
     "output_type": "execute_result"
    }
   ],
   "source": []
  },
  {
   "cell_type": "markdown",
   "metadata": {},
   "source": [
    "## Top Spenders"
   ]
  },
  {
   "cell_type": "markdown",
   "metadata": {},
   "source": [
    "* Identify the the top 5 spenders in the game by total purchase value (top-5 players with highest total purchase value), then list (in a table):\n",
    "  * SN(screen name)\n",
    "  * Purchase Count\n",
    "  * Average Purchase Price\n",
    "  * Total Purchase Value\n",
    "* Run basic calculations to obtain the results in the table below\n",
    "* Create a summary data frame to hold the results\n",
    "* Sort the total purchase value column in descending order\n",
    "* Display a preview of the summary data frame"
   ]
  },
  {
   "cell_type": "code",
   "execution_count": 93,
   "metadata": {},
   "outputs": [
    {
     "name": "stderr",
     "output_type": "stream",
     "text": [
      "C:\\Users\\ed069\\AppData\\Local\\Temp\\ipykernel_28220\\2832855972.py:11: FutureWarning: this method is deprecated in favour of `Styler.hide(axis='index')`\n",
      "  top_spenders = top_spenders.style.hide_index().format({\n"
     ]
    },
    {
     "data": {
      "text/html": [
       "<style type=\"text/css\">\n",
       "</style>\n",
       "<table id=\"T_acbe7\">\n",
       "  <thead>\n",
       "    <tr>\n",
       "      <th id=\"T_acbe7_level0_col0\" class=\"col_heading level0 col0\" >SN</th>\n",
       "      <th id=\"T_acbe7_level0_col1\" class=\"col_heading level0 col1\" >Purchase Count</th>\n",
       "      <th id=\"T_acbe7_level0_col2\" class=\"col_heading level0 col2\" >Average Purchase Price</th>\n",
       "      <th id=\"T_acbe7_level0_col3\" class=\"col_heading level0 col3\" >Total Purchase Value</th>\n",
       "    </tr>\n",
       "  </thead>\n",
       "  <tbody>\n",
       "    <tr>\n",
       "      <td id=\"T_acbe7_row0_col0\" class=\"data row0 col0\" >Lisosia93</td>\n",
       "      <td id=\"T_acbe7_row0_col1\" class=\"data row0 col1\" >5</td>\n",
       "      <td id=\"T_acbe7_row0_col2\" class=\"data row0 col2\" >$3.79</td>\n",
       "      <td id=\"T_acbe7_row0_col3\" class=\"data row0 col3\" >$18.96</td>\n",
       "    </tr>\n",
       "    <tr>\n",
       "      <td id=\"T_acbe7_row1_col0\" class=\"data row1 col0\" >Idastidru52</td>\n",
       "      <td id=\"T_acbe7_row1_col1\" class=\"data row1 col1\" >4</td>\n",
       "      <td id=\"T_acbe7_row1_col2\" class=\"data row1 col2\" >$3.86</td>\n",
       "      <td id=\"T_acbe7_row1_col3\" class=\"data row1 col3\" >$15.45</td>\n",
       "    </tr>\n",
       "    <tr>\n",
       "      <td id=\"T_acbe7_row2_col0\" class=\"data row2 col0\" >Chamjask73</td>\n",
       "      <td id=\"T_acbe7_row2_col1\" class=\"data row2 col1\" >3</td>\n",
       "      <td id=\"T_acbe7_row2_col2\" class=\"data row2 col2\" >$4.61</td>\n",
       "      <td id=\"T_acbe7_row2_col3\" class=\"data row2 col3\" >$13.83</td>\n",
       "    </tr>\n",
       "    <tr>\n",
       "      <td id=\"T_acbe7_row3_col0\" class=\"data row3 col0\" >Iral74</td>\n",
       "      <td id=\"T_acbe7_row3_col1\" class=\"data row3 col1\" >4</td>\n",
       "      <td id=\"T_acbe7_row3_col2\" class=\"data row3 col2\" >$3.40</td>\n",
       "      <td id=\"T_acbe7_row3_col3\" class=\"data row3 col3\" >$13.62</td>\n",
       "    </tr>\n",
       "    <tr>\n",
       "      <td id=\"T_acbe7_row4_col0\" class=\"data row4 col0\" >Iskadarya95</td>\n",
       "      <td id=\"T_acbe7_row4_col1\" class=\"data row4 col1\" >3</td>\n",
       "      <td id=\"T_acbe7_row4_col2\" class=\"data row4 col2\" >$4.37</td>\n",
       "      <td id=\"T_acbe7_row4_col3\" class=\"data row4 col3\" >$13.10</td>\n",
       "    </tr>\n",
       "  </tbody>\n",
       "</table>\n"
      ],
      "text/plain": [
       "<pandas.io.formats.style.Styler at 0x2172f7b3130>"
      ]
     },
     "execution_count": 93,
     "metadata": {},
     "output_type": "execute_result"
    }
   ],
   "source": [
    "# calculate total purchase value per player\n",
    "player_purchases = purchase_data.groupby('SN').agg({\n",
    "    'Purchase ID': 'count',\n",
    "    'Price': ['mean', 'sum']\n",
    "})\n",
    "\n",
    "player_purchases.columns = ['Purchase Count', 'Average Purchase Price', 'Total Purchase Value']\n",
    "player_purchases = player_purchases.reset_index()\n",
    "player_purchases['Average Purchase Price'] = player_purchases['Average Purchase Price'].round(2)\n",
    "top_spenders = player_purchases.sort_values('Total Purchase Value', ascending=False).head(5)\n",
    "top_spenders = top_spenders.style.hide_index().format({\n",
    "    'Average Purchase Price': '${:,.2f}',\n",
    "    'Total Purchase Value': '${:,.2f}',\n",
    "})\n",
    "# print(top_spenders)\n",
    "top_spenders\n"
   ]
  },
  {
   "cell_type": "code",
   "execution_count": 8,
   "metadata": {},
   "outputs": [
    {
     "data": {
      "text/html": [
       "<style  type=\"text/css\" >\n",
       "</style><table id=\"T_0516cc54_4411_11e9_9910_9822ef93214c\" ><thead>    <tr>        <th class=\"blank level0\" ></th>        <th class=\"col_heading level0 col0\" >Purchase Count</th>        <th class=\"col_heading level0 col1\" >Average Purchase Price</th>        <th class=\"col_heading level0 col2\" >Total Purchase Value</th>    </tr>    <tr>        <th class=\"index_name level0\" >SN</th>        <th class=\"blank\" ></th>        <th class=\"blank\" ></th>        <th class=\"blank\" ></th>    </tr></thead><tbody>\n",
       "                <tr>\n",
       "                        <th id=\"T_0516cc54_4411_11e9_9910_9822ef93214clevel0_row0\" class=\"row_heading level0 row0\" >Lisosia93</th>\n",
       "                        <td id=\"T_0516cc54_4411_11e9_9910_9822ef93214crow0_col0\" class=\"data row0 col0\" >5</td>\n",
       "                        <td id=\"T_0516cc54_4411_11e9_9910_9822ef93214crow0_col1\" class=\"data row0 col1\" >$3.79</td>\n",
       "                        <td id=\"T_0516cc54_4411_11e9_9910_9822ef93214crow0_col2\" class=\"data row0 col2\" >$18.96</td>\n",
       "            </tr>\n",
       "            <tr>\n",
       "                        <th id=\"T_0516cc54_4411_11e9_9910_9822ef93214clevel0_row1\" class=\"row_heading level0 row1\" >Idastidru52</th>\n",
       "                        <td id=\"T_0516cc54_4411_11e9_9910_9822ef93214crow1_col0\" class=\"data row1 col0\" >4</td>\n",
       "                        <td id=\"T_0516cc54_4411_11e9_9910_9822ef93214crow1_col1\" class=\"data row1 col1\" >$3.86</td>\n",
       "                        <td id=\"T_0516cc54_4411_11e9_9910_9822ef93214crow1_col2\" class=\"data row1 col2\" >$15.45</td>\n",
       "            </tr>\n",
       "            <tr>\n",
       "                        <th id=\"T_0516cc54_4411_11e9_9910_9822ef93214clevel0_row2\" class=\"row_heading level0 row2\" >Chamjask73</th>\n",
       "                        <td id=\"T_0516cc54_4411_11e9_9910_9822ef93214crow2_col0\" class=\"data row2 col0\" >3</td>\n",
       "                        <td id=\"T_0516cc54_4411_11e9_9910_9822ef93214crow2_col1\" class=\"data row2 col1\" >$4.61</td>\n",
       "                        <td id=\"T_0516cc54_4411_11e9_9910_9822ef93214crow2_col2\" class=\"data row2 col2\" >$13.83</td>\n",
       "            </tr>\n",
       "            <tr>\n",
       "                        <th id=\"T_0516cc54_4411_11e9_9910_9822ef93214clevel0_row3\" class=\"row_heading level0 row3\" >Iral74</th>\n",
       "                        <td id=\"T_0516cc54_4411_11e9_9910_9822ef93214crow3_col0\" class=\"data row3 col0\" >4</td>\n",
       "                        <td id=\"T_0516cc54_4411_11e9_9910_9822ef93214crow3_col1\" class=\"data row3 col1\" >$3.40</td>\n",
       "                        <td id=\"T_0516cc54_4411_11e9_9910_9822ef93214crow3_col2\" class=\"data row3 col2\" >$13.62</td>\n",
       "            </tr>\n",
       "            <tr>\n",
       "                        <th id=\"T_0516cc54_4411_11e9_9910_9822ef93214clevel0_row4\" class=\"row_heading level0 row4\" >Iskadarya95</th>\n",
       "                        <td id=\"T_0516cc54_4411_11e9_9910_9822ef93214crow4_col0\" class=\"data row4 col0\" >3</td>\n",
       "                        <td id=\"T_0516cc54_4411_11e9_9910_9822ef93214crow4_col1\" class=\"data row4 col1\" >$4.37</td>\n",
       "                        <td id=\"T_0516cc54_4411_11e9_9910_9822ef93214crow4_col2\" class=\"data row4 col2\" >$13.10</td>\n",
       "            </tr>\n",
       "    </tbody></table>"
      ],
      "text/plain": [
       "<pandas.io.formats.style.Styler at 0xb7ab750>"
      ]
     },
     "execution_count": 8,
     "metadata": {},
     "output_type": "execute_result"
    }
   ],
   "source": []
  },
  {
   "cell_type": "markdown",
   "metadata": {},
   "source": [
    "## Most Popular Items"
   ]
  },
  {
   "cell_type": "markdown",
   "metadata": {},
   "source": [
    "* Top 5 most popular items by purchase count:\n",
    "  * Item ID\n",
    "  * Item Name\n",
    "  * Purchase Count\n",
    "  * Item Price\n",
    "  * Total Purchase Value\n",
    "* Retrieve the Item ID, Item Name, and Item Price columns\n",
    "* Group by Item ID and Item Name. Perform calculations to obtain purchase count, item price, and total purchase value\n",
    "* Create a summary data frame to hold the results\n",
    "* Sort the purchase count column in descending order\n",
    "* Display a preview of the summary data frame"
   ]
  },
  {
   "cell_type": "code",
   "execution_count": 95,
   "metadata": {},
   "outputs": [
    {
     "name": "stderr",
     "output_type": "stream",
     "text": [
      "C:\\Users\\ed069\\AppData\\Local\\Temp\\ipykernel_28220\\3120577826.py:23: FutureWarning: this method is deprecated in favour of `Styler.hide(axis='index')`\n",
      "  most_popular_items = most_popular_items.style.hide_index().format({\n"
     ]
    },
    {
     "data": {
      "text/html": [
       "<style type=\"text/css\">\n",
       "</style>\n",
       "<table id=\"T_25a42\">\n",
       "  <thead>\n",
       "    <tr>\n",
       "      <th id=\"T_25a42_level0_col0\" class=\"col_heading level0 col0\" >Item ID</th>\n",
       "      <th id=\"T_25a42_level0_col1\" class=\"col_heading level0 col1\" >Item Name</th>\n",
       "      <th id=\"T_25a42_level0_col2\" class=\"col_heading level0 col2\" >Purchase Count</th>\n",
       "      <th id=\"T_25a42_level0_col3\" class=\"col_heading level0 col3\" >Item Price</th>\n",
       "      <th id=\"T_25a42_level0_col4\" class=\"col_heading level0 col4\" >Total Purchase Value</th>\n",
       "    </tr>\n",
       "  </thead>\n",
       "  <tbody>\n",
       "    <tr>\n",
       "      <td id=\"T_25a42_row0_col0\" class=\"data row0 col0\" >178</td>\n",
       "      <td id=\"T_25a42_row0_col1\" class=\"data row0 col1\" >Oathbreaker, Last Hope of the Breaking Storm</td>\n",
       "      <td id=\"T_25a42_row0_col2\" class=\"data row0 col2\" >12</td>\n",
       "      <td id=\"T_25a42_row0_col3\" class=\"data row0 col3\" >$4.23</td>\n",
       "      <td id=\"T_25a42_row0_col4\" class=\"data row0 col4\" >$50.76</td>\n",
       "    </tr>\n",
       "    <tr>\n",
       "      <td id=\"T_25a42_row1_col0\" class=\"data row1 col0\" >145</td>\n",
       "      <td id=\"T_25a42_row1_col1\" class=\"data row1 col1\" >Fiery Glass Crusader</td>\n",
       "      <td id=\"T_25a42_row1_col2\" class=\"data row1 col2\" >9</td>\n",
       "      <td id=\"T_25a42_row1_col3\" class=\"data row1 col3\" >$4.58</td>\n",
       "      <td id=\"T_25a42_row1_col4\" class=\"data row1 col4\" >$41.22</td>\n",
       "    </tr>\n",
       "    <tr>\n",
       "      <td id=\"T_25a42_row2_col0\" class=\"data row2 col0\" >108</td>\n",
       "      <td id=\"T_25a42_row2_col1\" class=\"data row2 col1\" >Extraction, Quickblade Of Trembling Hands</td>\n",
       "      <td id=\"T_25a42_row2_col2\" class=\"data row2 col2\" >9</td>\n",
       "      <td id=\"T_25a42_row2_col3\" class=\"data row2 col3\" >$3.53</td>\n",
       "      <td id=\"T_25a42_row2_col4\" class=\"data row2 col4\" >$31.77</td>\n",
       "    </tr>\n",
       "    <tr>\n",
       "      <td id=\"T_25a42_row3_col0\" class=\"data row3 col0\" >82</td>\n",
       "      <td id=\"T_25a42_row3_col1\" class=\"data row3 col1\" >Nirvana</td>\n",
       "      <td id=\"T_25a42_row3_col2\" class=\"data row3 col2\" >9</td>\n",
       "      <td id=\"T_25a42_row3_col3\" class=\"data row3 col3\" >$4.90</td>\n",
       "      <td id=\"T_25a42_row3_col4\" class=\"data row3 col4\" >$44.10</td>\n",
       "    </tr>\n",
       "    <tr>\n",
       "      <td id=\"T_25a42_row4_col0\" class=\"data row4 col0\" >19</td>\n",
       "      <td id=\"T_25a42_row4_col1\" class=\"data row4 col1\" >Pursuit, Cudgel of Necromancy</td>\n",
       "      <td id=\"T_25a42_row4_col2\" class=\"data row4 col2\" >8</td>\n",
       "      <td id=\"T_25a42_row4_col3\" class=\"data row4 col3\" >$1.02</td>\n",
       "      <td id=\"T_25a42_row4_col4\" class=\"data row4 col4\" >$8.16</td>\n",
       "    </tr>\n",
       "  </tbody>\n",
       "</table>\n"
      ],
      "text/plain": [
       "<pandas.io.formats.style.Styler at 0x2172fad7e20>"
      ]
     },
     "execution_count": 95,
     "metadata": {},
     "output_type": "execute_result"
    }
   ],
   "source": [
    "# group by item id and item name\n",
    "item_grouped = purchase_data.groupby(['Item ID', 'Item Name'])\n",
    "\n",
    "# calculate purchase count, item price, and total purchase value\n",
    "item_stats = item_grouped.agg({\n",
    "    'Purchase ID': 'count',\n",
    "    'Price': 'first',\n",
    "    'Price': 'sum'\n",
    "}).rename(columns={\n",
    "    'Purchase ID': 'Purchase Count',\n",
    "    'Price': 'Total Purchase Value'\n",
    "})\n",
    "\n",
    "# reset index to flatten the dataframe\n",
    "item_stats = item_stats.reset_index()\n",
    "\n",
    "# since 'Price' is used twice, we need to adjust\n",
    "item_stats['Item Price'] = purchase_data.groupby(['Item ID', 'Item Name'])['Price'].first().values\n",
    "# reorder columns\n",
    "item_stats = item_stats[['Item ID', 'Item Name', 'Purchase Count', 'Item Price', 'Total Purchase Value']]\n",
    "# sort by Purchase Count descending and select top 5\n",
    "most_popular_items = item_stats.sort_values('Purchase Count', ascending=False).head(5)\n",
    "most_popular_items = most_popular_items.style.hide_index().format({\n",
    "    'Item Price' : \"${:.2f}\",\n",
    "    'Total Purchase Value' : \"${:.2f}\",\n",
    "})\n",
    "# print(most_popular_items)\n",
    "most_popular_items\n"
   ]
  },
  {
   "cell_type": "code",
   "execution_count": 9,
   "metadata": {},
   "outputs": [
    {
     "data": {
      "text/html": [
       "<style  type=\"text/css\" >\n",
       "</style><table id=\"T_051eb3ca_4411_11e9_8c15_9822ef93214c\" ><thead>    <tr>        <th class=\"blank\" ></th>        <th class=\"blank level0\" ></th>        <th class=\"col_heading level0 col0\" >Purchase Count</th>        <th class=\"col_heading level0 col1\" >Item Price</th>        <th class=\"col_heading level0 col2\" >Total Purchase Value</th>    </tr>    <tr>        <th class=\"index_name level0\" >Item ID</th>        <th class=\"index_name level1\" >Item Name</th>        <th class=\"blank\" ></th>        <th class=\"blank\" ></th>        <th class=\"blank\" ></th>    </tr></thead><tbody>\n",
       "                <tr>\n",
       "                        <th id=\"T_051eb3ca_4411_11e9_8c15_9822ef93214clevel0_row0\" class=\"row_heading level0 row0\" >178</th>\n",
       "                        <th id=\"T_051eb3ca_4411_11e9_8c15_9822ef93214clevel1_row0\" class=\"row_heading level1 row0\" >Oathbreaker, Last Hope of the Breaking Storm</th>\n",
       "                        <td id=\"T_051eb3ca_4411_11e9_8c15_9822ef93214crow0_col0\" class=\"data row0 col0\" >12</td>\n",
       "                        <td id=\"T_051eb3ca_4411_11e9_8c15_9822ef93214crow0_col1\" class=\"data row0 col1\" >$4.23</td>\n",
       "                        <td id=\"T_051eb3ca_4411_11e9_8c15_9822ef93214crow0_col2\" class=\"data row0 col2\" >$50.76</td>\n",
       "            </tr>\n",
       "            <tr>\n",
       "                        <th id=\"T_051eb3ca_4411_11e9_8c15_9822ef93214clevel0_row1\" class=\"row_heading level0 row1\" >145</th>\n",
       "                        <th id=\"T_051eb3ca_4411_11e9_8c15_9822ef93214clevel1_row1\" class=\"row_heading level1 row1\" >Fiery Glass Crusader</th>\n",
       "                        <td id=\"T_051eb3ca_4411_11e9_8c15_9822ef93214crow1_col0\" class=\"data row1 col0\" >9</td>\n",
       "                        <td id=\"T_051eb3ca_4411_11e9_8c15_9822ef93214crow1_col1\" class=\"data row1 col1\" >$4.58</td>\n",
       "                        <td id=\"T_051eb3ca_4411_11e9_8c15_9822ef93214crow1_col2\" class=\"data row1 col2\" >$41.22</td>\n",
       "            </tr>\n",
       "            <tr>\n",
       "                        <th id=\"T_051eb3ca_4411_11e9_8c15_9822ef93214clevel0_row2\" class=\"row_heading level0 row2\" >108</th>\n",
       "                        <th id=\"T_051eb3ca_4411_11e9_8c15_9822ef93214clevel1_row2\" class=\"row_heading level1 row2\" >Extraction, Quickblade Of Trembling Hands</th>\n",
       "                        <td id=\"T_051eb3ca_4411_11e9_8c15_9822ef93214crow2_col0\" class=\"data row2 col0\" >9</td>\n",
       "                        <td id=\"T_051eb3ca_4411_11e9_8c15_9822ef93214crow2_col1\" class=\"data row2 col1\" >$3.53</td>\n",
       "                        <td id=\"T_051eb3ca_4411_11e9_8c15_9822ef93214crow2_col2\" class=\"data row2 col2\" >$31.77</td>\n",
       "            </tr>\n",
       "            <tr>\n",
       "                        <th id=\"T_051eb3ca_4411_11e9_8c15_9822ef93214clevel0_row3\" class=\"row_heading level0 row3\" >82</th>\n",
       "                        <th id=\"T_051eb3ca_4411_11e9_8c15_9822ef93214clevel1_row3\" class=\"row_heading level1 row3\" >Nirvana</th>\n",
       "                        <td id=\"T_051eb3ca_4411_11e9_8c15_9822ef93214crow3_col0\" class=\"data row3 col0\" >9</td>\n",
       "                        <td id=\"T_051eb3ca_4411_11e9_8c15_9822ef93214crow3_col1\" class=\"data row3 col1\" >$4.90</td>\n",
       "                        <td id=\"T_051eb3ca_4411_11e9_8c15_9822ef93214crow3_col2\" class=\"data row3 col2\" >$44.10</td>\n",
       "            </tr>\n",
       "            <tr>\n",
       "                        <th id=\"T_051eb3ca_4411_11e9_8c15_9822ef93214clevel0_row4\" class=\"row_heading level0 row4\" >19</th>\n",
       "                        <th id=\"T_051eb3ca_4411_11e9_8c15_9822ef93214clevel1_row4\" class=\"row_heading level1 row4\" >Pursuit, Cudgel of Necromancy</th>\n",
       "                        <td id=\"T_051eb3ca_4411_11e9_8c15_9822ef93214crow4_col0\" class=\"data row4 col0\" >8</td>\n",
       "                        <td id=\"T_051eb3ca_4411_11e9_8c15_9822ef93214crow4_col1\" class=\"data row4 col1\" >$1.02</td>\n",
       "                        <td id=\"T_051eb3ca_4411_11e9_8c15_9822ef93214crow4_col2\" class=\"data row4 col2\" >$8.16</td>\n",
       "            </tr>\n",
       "    </tbody></table>"
      ],
      "text/plain": [
       "<pandas.io.formats.style.Styler at 0xc1cbbf0>"
      ]
     },
     "execution_count": 9,
     "metadata": {},
     "output_type": "execute_result"
    }
   ],
   "source": []
  },
  {
   "cell_type": "markdown",
   "metadata": {},
   "source": [
    "## Most Profitable Items"
   ]
  },
  {
   "cell_type": "markdown",
   "metadata": {},
   "source": [
    "* Top 5 most profitable items by total purchase value:\n",
    "  * Item ID\n",
    "  * Item Name\n",
    "  * Purchase Count\n",
    "  * Item Price\n",
    "  * Total Purchase Value\n",
    "* Sort the above table by total purchase value in descending order\n",
    "* Display a preview of the data frame"
   ]
  },
  {
   "cell_type": "code",
   "execution_count": 96,
   "metadata": {},
   "outputs": [
    {
     "name": "stderr",
     "output_type": "stream",
     "text": [
      "C:\\Users\\ed069\\AppData\\Local\\Temp\\ipykernel_28220\\1550590328.py:3: FutureWarning: this method is deprecated in favour of `Styler.hide(axis='index')`\n",
      "  most_profitable_items = most_profitable_items.style.hide_index().format({\n"
     ]
    },
    {
     "data": {
      "text/html": [
       "<style type=\"text/css\">\n",
       "</style>\n",
       "<table id=\"T_c1078\">\n",
       "  <thead>\n",
       "    <tr>\n",
       "      <th id=\"T_c1078_level0_col0\" class=\"col_heading level0 col0\" >Item ID</th>\n",
       "      <th id=\"T_c1078_level0_col1\" class=\"col_heading level0 col1\" >Item Name</th>\n",
       "      <th id=\"T_c1078_level0_col2\" class=\"col_heading level0 col2\" >Purchase Count</th>\n",
       "      <th id=\"T_c1078_level0_col3\" class=\"col_heading level0 col3\" >Item Price</th>\n",
       "      <th id=\"T_c1078_level0_col4\" class=\"col_heading level0 col4\" >Total Purchase Value</th>\n",
       "    </tr>\n",
       "  </thead>\n",
       "  <tbody>\n",
       "    <tr>\n",
       "      <td id=\"T_c1078_row0_col0\" class=\"data row0 col0\" >178</td>\n",
       "      <td id=\"T_c1078_row0_col1\" class=\"data row0 col1\" >Oathbreaker, Last Hope of the Breaking Storm</td>\n",
       "      <td id=\"T_c1078_row0_col2\" class=\"data row0 col2\" >12</td>\n",
       "      <td id=\"T_c1078_row0_col3\" class=\"data row0 col3\" >$4.23</td>\n",
       "      <td id=\"T_c1078_row0_col4\" class=\"data row0 col4\" >$50.76</td>\n",
       "    </tr>\n",
       "    <tr>\n",
       "      <td id=\"T_c1078_row1_col0\" class=\"data row1 col0\" >82</td>\n",
       "      <td id=\"T_c1078_row1_col1\" class=\"data row1 col1\" >Nirvana</td>\n",
       "      <td id=\"T_c1078_row1_col2\" class=\"data row1 col2\" >9</td>\n",
       "      <td id=\"T_c1078_row1_col3\" class=\"data row1 col3\" >$4.90</td>\n",
       "      <td id=\"T_c1078_row1_col4\" class=\"data row1 col4\" >$44.10</td>\n",
       "    </tr>\n",
       "    <tr>\n",
       "      <td id=\"T_c1078_row2_col0\" class=\"data row2 col0\" >145</td>\n",
       "      <td id=\"T_c1078_row2_col1\" class=\"data row2 col1\" >Fiery Glass Crusader</td>\n",
       "      <td id=\"T_c1078_row2_col2\" class=\"data row2 col2\" >9</td>\n",
       "      <td id=\"T_c1078_row2_col3\" class=\"data row2 col3\" >$4.58</td>\n",
       "      <td id=\"T_c1078_row2_col4\" class=\"data row2 col4\" >$41.22</td>\n",
       "    </tr>\n",
       "    <tr>\n",
       "      <td id=\"T_c1078_row3_col0\" class=\"data row3 col0\" >92</td>\n",
       "      <td id=\"T_c1078_row3_col1\" class=\"data row3 col1\" >Final Critic</td>\n",
       "      <td id=\"T_c1078_row3_col2\" class=\"data row3 col2\" >8</td>\n",
       "      <td id=\"T_c1078_row3_col3\" class=\"data row3 col3\" >$4.88</td>\n",
       "      <td id=\"T_c1078_row3_col4\" class=\"data row3 col4\" >$39.04</td>\n",
       "    </tr>\n",
       "    <tr>\n",
       "      <td id=\"T_c1078_row4_col0\" class=\"data row4 col0\" >103</td>\n",
       "      <td id=\"T_c1078_row4_col1\" class=\"data row4 col1\" >Singed Scalpel</td>\n",
       "      <td id=\"T_c1078_row4_col2\" class=\"data row4 col2\" >8</td>\n",
       "      <td id=\"T_c1078_row4_col3\" class=\"data row4 col3\" >$4.35</td>\n",
       "      <td id=\"T_c1078_row4_col4\" class=\"data row4 col4\" >$34.80</td>\n",
       "    </tr>\n",
       "  </tbody>\n",
       "</table>\n"
      ],
      "text/plain": [
       "<pandas.io.formats.style.Styler at 0x2172fc08ac0>"
      ]
     },
     "execution_count": 96,
     "metadata": {},
     "output_type": "execute_result"
    }
   ],
   "source": [
    "# sort the items by Total Purchase Value descending and select top 5\n",
    "most_profitable_items = item_stats.sort_values('Total Purchase Value', ascending=False).head(5)\n",
    "most_profitable_items = most_profitable_items.style.hide_index().format({\n",
    "    'Item Price' : \"${:.2f}\",\n",
    "    'Total Purchase Value' : \"${:.2f}\",\n",
    "})\n",
    "# print(most_profitable_items)\n",
    "most_profitable_items"
   ]
  },
  {
   "cell_type": "code",
   "execution_count": null,
   "metadata": {},
   "outputs": [
    {
     "data": {
      "text/html": [
       "<style  type=\"text/css\" >\n",
       "</style><table id=\"T_05231d8a_4411_11e9_80c0_9822ef93214c\" ><thead>    <tr>        <th class=\"blank\" ></th>        <th class=\"blank level0\" ></th>        <th class=\"col_heading level0 col0\" >Purchase Count</th>        <th class=\"col_heading level0 col1\" >Item Price</th>        <th class=\"col_heading level0 col2\" >Total Purchase Value</th>    </tr>    <tr>        <th class=\"index_name level0\" >Item ID</th>        <th class=\"index_name level1\" >Item Name</th>        <th class=\"blank\" ></th>        <th class=\"blank\" ></th>        <th class=\"blank\" ></th>    </tr></thead><tbody>\n",
       "                <tr>\n",
       "                        <th id=\"T_05231d8a_4411_11e9_80c0_9822ef93214clevel0_row0\" class=\"row_heading level0 row0\" >178</th>\n",
       "                        <th id=\"T_05231d8a_4411_11e9_80c0_9822ef93214clevel1_row0\" class=\"row_heading level1 row0\" >Oathbreaker, Last Hope of the Breaking Storm</th>\n",
       "                        <td id=\"T_05231d8a_4411_11e9_80c0_9822ef93214crow0_col0\" class=\"data row0 col0\" >12</td>\n",
       "                        <td id=\"T_05231d8a_4411_11e9_80c0_9822ef93214crow0_col1\" class=\"data row0 col1\" >$4.23</td>\n",
       "                        <td id=\"T_05231d8a_4411_11e9_80c0_9822ef93214crow0_col2\" class=\"data row0 col2\" >$50.76</td>\n",
       "            </tr>\n",
       "            <tr>\n",
       "                        <th id=\"T_05231d8a_4411_11e9_80c0_9822ef93214clevel0_row1\" class=\"row_heading level0 row1\" >82</th>\n",
       "                        <th id=\"T_05231d8a_4411_11e9_80c0_9822ef93214clevel1_row1\" class=\"row_heading level1 row1\" >Nirvana</th>\n",
       "                        <td id=\"T_05231d8a_4411_11e9_80c0_9822ef93214crow1_col0\" class=\"data row1 col0\" >9</td>\n",
       "                        <td id=\"T_05231d8a_4411_11e9_80c0_9822ef93214crow1_col1\" class=\"data row1 col1\" >$4.90</td>\n",
       "                        <td id=\"T_05231d8a_4411_11e9_80c0_9822ef93214crow1_col2\" class=\"data row1 col2\" >$44.10</td>\n",
       "            </tr>\n",
       "            <tr>\n",
       "                        <th id=\"T_05231d8a_4411_11e9_80c0_9822ef93214clevel0_row2\" class=\"row_heading level0 row2\" >145</th>\n",
       "                        <th id=\"T_05231d8a_4411_11e9_80c0_9822ef93214clevel1_row2\" class=\"row_heading level1 row2\" >Fiery Glass Crusader</th>\n",
       "                        <td id=\"T_05231d8a_4411_11e9_80c0_9822ef93214crow2_col0\" class=\"data row2 col0\" >9</td>\n",
       "                        <td id=\"T_05231d8a_4411_11e9_80c0_9822ef93214crow2_col1\" class=\"data row2 col1\" >$4.58</td>\n",
       "                        <td id=\"T_05231d8a_4411_11e9_80c0_9822ef93214crow2_col2\" class=\"data row2 col2\" >$41.22</td>\n",
       "            </tr>\n",
       "            <tr>\n",
       "                        <th id=\"T_05231d8a_4411_11e9_80c0_9822ef93214clevel0_row3\" class=\"row_heading level0 row3\" >92</th>\n",
       "                        <th id=\"T_05231d8a_4411_11e9_80c0_9822ef93214clevel1_row3\" class=\"row_heading level1 row3\" >Final Critic</th>\n",
       "                        <td id=\"T_05231d8a_4411_11e9_80c0_9822ef93214crow3_col0\" class=\"data row3 col0\" >8</td>\n",
       "                        <td id=\"T_05231d8a_4411_11e9_80c0_9822ef93214crow3_col1\" class=\"data row3 col1\" >$4.88</td>\n",
       "                        <td id=\"T_05231d8a_4411_11e9_80c0_9822ef93214crow3_col2\" class=\"data row3 col2\" >$39.04</td>\n",
       "            </tr>\n",
       "            <tr>\n",
       "                        <th id=\"T_05231d8a_4411_11e9_80c0_9822ef93214clevel0_row4\" class=\"row_heading level0 row4\" >103</th>\n",
       "                        <th id=\"T_05231d8a_4411_11e9_80c0_9822ef93214clevel1_row4\" class=\"row_heading level1 row4\" >Singed Scalpel</th>\n",
       "                        <td id=\"T_05231d8a_4411_11e9_80c0_9822ef93214crow4_col0\" class=\"data row4 col0\" >8</td>\n",
       "                        <td id=\"T_05231d8a_4411_11e9_80c0_9822ef93214crow4_col1\" class=\"data row4 col1\" >$4.35</td>\n",
       "                        <td id=\"T_05231d8a_4411_11e9_80c0_9822ef93214crow4_col2\" class=\"data row4 col2\" >$34.80</td>\n",
       "            </tr>\n",
       "    </tbody></table>"
      ],
      "text/plain": [
       "<pandas.io.formats.style.Styler at 0xb7ab5d0>"
      ]
     },
     "metadata": {},
     "output_type": "display_data"
    }
   ],
   "source": []
  }
 ],
 "metadata": {
  "anaconda-cloud": {},
  "kernel_info": {
   "name": "python3"
  },
  "kernelspec": {
   "display_name": "Python 3",
   "language": "python",
   "name": "python3"
  },
  "language_info": {
   "codemirror_mode": {
    "name": "ipython",
    "version": 3
   },
   "file_extension": ".py",
   "mimetype": "text/x-python",
   "name": "python",
   "nbconvert_exporter": "python",
   "pygments_lexer": "ipython3",
   "version": "3.10.5"
  },
  "nteract": {
   "version": "0.8.4"
  }
 },
 "nbformat": 4,
 "nbformat_minor": 2
}
