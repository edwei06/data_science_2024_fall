version https://git-lfs.github.com/spec/v1
oid sha256:fa8c5b59f1fa4244436d682f4a41d425b22ba03c89335e202538093b69ecd85e
size 533605
