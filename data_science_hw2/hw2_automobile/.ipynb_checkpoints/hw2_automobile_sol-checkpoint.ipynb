version https://git-lfs.github.com/spec/v1
oid sha256:9b9202e9a4719a39a84400211e3900175af13b3e58374f1a4c87f7551705dc47
size 866774
