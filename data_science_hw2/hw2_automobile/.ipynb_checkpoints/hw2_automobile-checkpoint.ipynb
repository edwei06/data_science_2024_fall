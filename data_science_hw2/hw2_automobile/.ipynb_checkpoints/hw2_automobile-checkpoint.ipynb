version https://git-lfs.github.com/spec/v1
oid sha256:692aed26183cfb9c9cb0cd70121b41b4ba384dc531de0fa90701cc388d05967c
size 844548
