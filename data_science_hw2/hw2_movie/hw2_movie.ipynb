version https://git-lfs.github.com/spec/v1
oid sha256:81f2713f0139d8c436aa926bd29ac6f5bf1ff15846637813e455144c2b20b14e
size 42673
