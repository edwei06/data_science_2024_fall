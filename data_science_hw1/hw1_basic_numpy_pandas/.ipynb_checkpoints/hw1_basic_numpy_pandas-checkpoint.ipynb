version https://git-lfs.github.com/spec/v1
oid sha256:a902a9dca1a45bf08715acd1a0ad27823eb361478c05393fbc8c3d3a84b57147
size 32456
