{
 "cells": [
  {
   "cell_type": "markdown",
   "metadata": {},
   "source": [
    "### Conway’s Game of Life\n",
    "Conway’s Game of Life (https://en.wikipedia.org/wiki/Conway%27s_Game_of_Life) is a classic example of a cellular automaton devised by mathematician John Conway. The game is a classic example of how simple rules can give rise to complex behavior. The game is played on an m-by-n board, which we will represent as an m-by-n matrix. The game proceeds in steps. At any given time, each cell of the board (i.e., entry of our matrix), is either alive (which we will represent as a 1) or dead (which we will represent as a 0). At each step, the board evolves according to a few simple rules:\n",
    "\n",
    "• A live cell with fewer than two live neighbors becomes a dead cell.   \n",
    "• A live cell with more than three live neighbors becomes a dead cell.   \n",
    "• A live cell with two or three live neighbors remains alive.  \n",
    "• A dead cell with exactly three live neighbors becomes alive.  \n",
    "• All other dead cells remain dead.  \n",
    "\n",
    "   The neighbors of a cell are the 8 cells adjacent to it, i.e., left, right, above, below, upper- left, lower-left, upper-right and lower-right. We will follow the convention that the board is toroidal, so that using matrix-like notation (i.e., the cell (0,0) is in the upper-left of the board and the first coordinate specifies a row), the upper neighbor of the cell (0,0) is (m − 1,0), the right neighbor of the cell (m − 1,n − 1) is (m − 1,0), etc. That is, the board “wraps around”. \n",
    "   \n",
    "   Note: you are not required to use this matrix-like indexing. It’s just what I chose to use to explain the toroidal property."
   ]
  },
  {
   "cell_type": "code",
   "execution_count": 1,
   "metadata": {},
   "outputs": [],
   "source": [
    "import numpy as np\n",
    "import matplotlib.pyplot as plt\n",
    "import scipy.stats\n",
    "\n",
    "import copy\n",
    "from matplotlib import animation\n",
    "import time\n",
    "from IPython.display import display,clear_output\n",
    "\n",
    "%matplotlib inline"
   ]
  },
  {
   "cell_type": "markdown",
   "metadata": {},
   "source": [
    "1. Write a function <span style=\"font-family:Courier; font-size:1em;\">is_valid_board</span> that takes an m-by-n numpy array (i.e., an ndarray) as its only argument and returns a Python Boolean that is True if and only if the argument is a valid representation of a Game of Life board. A valid board is any two-dimensional numpy ndarray with all entries either 0.0 and 1.0."
   ]
  },
  {
   "cell_type": "code",
   "execution_count": 2,
   "metadata": {},
   "outputs": [],
   "source": [
    "def is_valid_board(a):\n",
    "    if not isinstance(a, np.ndarray):\n",
    "        print(\"Validation Failed: Input is not a NumPy ndarray.\")\n",
    "        return False\n",
    "    \n",
    "    if a.ndim != 2:\n",
    "        print(f\"Validation Failed: Array has {a.ndim} dimensions; expected 2.\")\n",
    "        return False\n",
    "\n",
    "    if not np.issubdtype(a.dtype, np.number):\n",
    "        print(f\"Validation Failed: Array data type {a.dtype} is not numeric.\")\n",
    "        return False\n",
    "    \n",
    "    unique_values = np.unique(a)\n",
    "    valid_values = {0.0, 1.0} if np.issubdtype(a.dtype, np.floating) else {0, 1}\n",
    "    unique_set = set(unique_values.tolist())\n",
    "    \n",
    "    if not unique_set.issubset(valid_values):\n",
    "        print(f\"Validation Failed: Array contains values outside {valid_values}. Found values: {unique_set}\")\n",
    "        return False\n",
    "    return True"
   ]
  },
  {
   "cell_type": "code",
   "execution_count": 3,
   "metadata": {},
   "outputs": [
    {
     "data": {
      "text/plain": [
       "True"
      ]
     },
     "execution_count": 3,
     "metadata": {},
     "output_type": "execute_result"
    }
   ],
   "source": [
    "a = np.array([[0,1,0,1], [1,0,0,1], [1,1,0,0]])\n",
    "is_valid_board(a)\n"
   ]
  },
  {
   "cell_type": "code",
   "execution_count": 4,
   "metadata": {},
   "outputs": [
    {
     "name": "stdout",
     "output_type": "stream",
     "text": [
      "Validation Failed: Array contains values outside {0, 1}. Found values: {0, 1, 3}\n"
     ]
    },
    {
     "data": {
      "text/plain": [
       "False"
      ]
     },
     "execution_count": 4,
     "metadata": {},
     "output_type": "execute_result"
    }
   ],
   "source": [
    "b = np.array([[0,1,1,1], [0,0,0,3], [1,1,0,0]])\n",
    "is_valid_board(b)"
   ]
  },
  {
   "cell_type": "markdown",
   "metadata": {},
   "source": [
    "2. Write a function called <span style=\"font-family:Courier; font-size:1em;\">gol_step</span> that takes an m-by-n numpy array as its argument and returns another numpy array of the same size (i.e., also m-by-n), corresponding to the board at the next step of the game. \n",
    "\n",
    "    Your function should perform error checking to ensure that the provided argument is a valid Game of Life board."
   ]
  },
  {
   "cell_type": "code",
   "execution_count": 10,
   "metadata": {},
   "outputs": [],
   "source": [
    "def gol_step(a):\n",
    "    if not is_valid_board(a):\n",
    "        raise ValueError(\"Invalid Game of Life board. The board must be a 2D NumPy array with all elements 0 or 1.\")\n",
    "    \n",
    "    # Count the number of alive neighbors for each cell using toroidal wrapping\n",
    "    # We achieve this by shifting the board in all eight directions and summing the results\n",
    "    neighbors = (\n",
    "        np.roll(np.roll(a, 1, 0), 1, 1) +  # Top-Left\n",
    "        np.roll(a, 1, 0) +                # Top\n",
    "        np.roll(np.roll(a, 1, 0), -1, 1) + # Top-Right\n",
    "        np.roll(a, -1, 0) +               # Bottom\n",
    "        np.roll(np.roll(a, -1, 0), 1, 1) + # Bottom-Left\n",
    "        np.roll(np.roll(a, -1, 0), -1, 1) +# Bottom-Right\n",
    "        np.roll(a, 1, 1) +                # Left\n",
    "        np.roll(a, -1, 1)                  # Right\n",
    "    )\n",
    "\n",
    "    next_board = np.zeros(a.shape, dtype=a.dtype)\n",
    "    \n",
    "    # Apply rules for live cells\n",
    "    # Cells that are currently alive and have 2 or 3 neighbors stay alive\n",
    "    live_cells = (a == 1)\n",
    "    survive = live_cells & ((neighbors == 2) | (neighbors == 3))\n",
    "    next_board[survive] = 1\n",
    "    \n",
    "    # Apply rules for dead cells\n",
    "    # Cells that are currently dead and have exactly 3 neighbors become alive\n",
    "    dead_cells = (a == 0)\n",
    "    birth = dead_cells & (neighbors == 3)\n",
    "    next_board[birth] = 1\n",
    "    \n",
    "    return next_board"
   ]
  },
  {
   "cell_type": "code",
   "execution_count": 12,
   "metadata": {},
   "outputs": [
    {
     "data": {
      "text/plain": [
       "array([[0, 0, 0, 0, 0],\n",
       "       [1, 1, 0, 0, 0],\n",
       "       [1, 1, 0, 0, 1],\n",
       "       [1, 0, 0, 0, 0],\n",
       "       [0, 0, 0, 0, 0]])"
      ]
     },
     "execution_count": 12,
     "metadata": {},
     "output_type": "execute_result"
    }
   ],
   "source": [
    "x = np.array([[0, 1, 0, 0, 0],\n",
    " [1, 0, 0, 1, 0],\n",
    " [1, 0, 0, 0, 1],\n",
    " [0, 1, 0, 0, 0],\n",
    " [0, 0, 0, 0, 0]])\n",
    "y = gol_step(x)\n",
    "y\n"
   ]
  },
  {
   "cell_type": "markdown",
   "metadata": {},
   "source": [
    "3. Write a function called draw_gol_board that takes an m-by-n numpy array (i.e., an ndarray) as its only argument and draws the board as an m-by-n set of tiles, colored black or white correspond to whether the corresponding cell is alive or dead, respectively. Your plot should not have any grid lines, nor should it have any axis labels or axis ticks. \n",
    "\n",
    "    Hint: see the functions plt.xticks() and plt.yticks() for changing axis ticks. \n",
    "    \n",
    "    Hint: you may find the function plt.get_cmap to be useful for working with the matplotlib Colormap objects."
   ]
  },
  {
   "cell_type": "code",
   "execution_count": 13,
   "metadata": {},
   "outputs": [],
   "source": [
    "def draw_gol_board(a):\n",
    "    if not is_valid_board(a):\n",
    "        raise ValueError(\"Invalid Game of Life board. The board must be a 2D NumPy array with all elements 0 or 1.\")\n",
    "    \n",
    "    # Define the color map: 0 -> white, 1 -> black\n",
    "    cmap = plt.colors.ListedColormap(['white', 'black'])\n",
    "    \n",
    "    # Create the plot\n",
    "    plt.figure(figsize=(6, 6))  # Adjust the figure size as needed\n",
    "    plt.imshow(a, cmap='binary', interpolation='nearest')\n",
    "    \n",
    "    # Remove grid lines, axis labels, and ticks\n",
    "    plt.grid(False)\n",
    "    plt.axis('off')\n",
    "    \n",
    "    # Display the plot\n",
    "    plt.show()"
   ]
  },
  {
   "cell_type": "code",
   "execution_count": 16,
   "metadata": {},
   "outputs": [],
   "source": [
    "def draw_gol_board(a):    \n",
    "    if not is_valid_board(a):  \n",
    "        raise ValueError(\"Invalid Game of Life board. The board must be a 2D NumPy array with all elements 0 or 1.\")\n",
    "\n",
    "    plt.figure(figsize=(6, 6)) \n",
    "    plt.imshow(a, cmap='binary', interpolation='nearest')\n",
    "    \n",
    "    # Remove grid lines, axis labels, and ticks\n",
    "    plt.grid(False)\n",
    "    plt.axis('off')\n",
    "    \n",
    "    # Display the plot\n",
    "    plt.show()"
   ]
  },
  {
   "cell_type": "code",
   "execution_count": 14,
   "metadata": {},
   "outputs": [
    {
     "data": {
      "text/plain": [
       "array([[0, 1, 0, 0, 0],\n",
       "       [1, 0, 0, 1, 0],\n",
       "       [1, 0, 0, 0, 1],\n",
       "       [0, 1, 0, 0, 0],\n",
       "       [0, 0, 0, 0, 0]])"
      ]
     },
     "execution_count": 14,
     "metadata": {},
     "output_type": "execute_result"
    }
   ],
   "source": [
    "x"
   ]
  },
  {
   "cell_type": "code",
   "execution_count": 17,
   "metadata": {},
   "outputs": [
    {
     "data": {
      "image/png": "[encoded data removed]",
      "text/plain": [
       "<Figure size 432x432 with 1 Axes>"
      ]
     },
     "metadata": {
      "needs_background": "light"
     },
     "output_type": "display_data"
    }
   ],
   "source": [
    "board = draw_gol_board(x)"
   ]
  },
  {
   "cell_type": "markdown",
   "metadata": {},
   "source": [
    "4.  Create a 20-by-20 numpy array corresponding to a Game of Life board in which all cells are dead, with the exception that the top-left 5-by-5 section of the board looks like this:\n",
    "    \n",
    "    Plot this 20-by-20 board using draw_gol_board."
   ]
  },
  {
   "cell_type": "code",
   "execution_count": 22,
   "metadata": {},
   "outputs": [
    {
     "data": {
      "image/png": "[encoded data removed]",
      "text/plain": [
       "<Figure size 432x432 with 1 Axes>"
      ]
     },
     "metadata": {
      "needs_background": "light"
     },
     "output_type": "display_data"
    },
    {
     "data": {
      "text/plain": [
       "array([[0, 0, 0, 0, 0, 0, 0, 0, 0, 0, 0, 0, 0, 0, 0, 0, 0, 0, 0, 0],\n",
       "       [0, 0, 1, 0, 0, 0, 0, 0, 0, 0, 0, 0, 0, 0, 0, 0, 0, 0, 0, 0],\n",
       "       [0, 0, 0, 1, 0, 0, 0, 0, 0, 0, 0, 0, 0, 0, 0, 0, 0, 0, 0, 0],\n",
       "       [0, 1, 1, 1, 0, 0, 0, 0, 0, 0, 0, 0, 0, 0, 0, 0, 0, 0, 0, 0],\n",
       "       [0, 0, 0, 0, 0, 0, 0, 0, 0, 0, 0, 0, 0, 0, 0, 0, 0, 0, 0, 0],\n",
       "       [0, 0, 0, 0, 0, 0, 0, 0, 0, 0, 0, 0, 0, 0, 0, 0, 0, 0, 0, 0],\n",
       "       [0, 0, 0, 0, 0, 0, 0, 0, 0, 0, 0, 0, 0, 0, 0, 0, 0, 0, 0, 0],\n",
       "       [0, 0, 0, 0, 0, 0, 0, 0, 0, 0, 0, 0, 0, 0, 0, 0, 0, 0, 0, 0],\n",
       "       [0, 0, 0, 0, 0, 0, 0, 0, 0, 0, 0, 0, 0, 0, 0, 0, 0, 0, 0, 0],\n",
       "       [0, 0, 0, 0, 0, 0, 0, 0, 0, 0, 0, 0, 0, 0, 0, 0, 0, 0, 0, 0],\n",
       "       [0, 0, 0, 0, 0, 0, 0, 0, 0, 0, 0, 0, 0, 0, 0, 0, 0, 0, 0, 0],\n",
       "       [0, 0, 0, 0, 0, 0, 0, 0, 0, 0, 0, 0, 0, 0, 0, 0, 0, 0, 0, 0],\n",
       "       [0, 0, 0, 0, 0, 0, 0, 0, 0, 0, 0, 0, 0, 0, 0, 0, 0, 0, 0, 0],\n",
       "       [0, 0, 0, 0, 0, 0, 0, 0, 0, 0, 0, 0, 0, 0, 0, 0, 0, 0, 0, 0],\n",
       "       [0, 0, 0, 0, 0, 0, 0, 0, 0, 0, 0, 0, 0, 0, 0, 0, 0, 0, 0, 0],\n",
       "       [0, 0, 0, 0, 0, 0, 0, 0, 0, 0, 0, 0, 0, 0, 0, 0, 0, 0, 0, 0],\n",
       "       [0, 0, 0, 0, 0, 0, 0, 0, 0, 0, 0, 0, 0, 0, 0, 0, 0, 0, 0, 0],\n",
       "       [0, 0, 0, 0, 0, 0, 0, 0, 0, 0, 0, 0, 0, 0, 0, 0, 0, 0, 0, 0],\n",
       "       [0, 0, 0, 0, 0, 0, 0, 0, 0, 0, 0, 0, 0, 0, 0, 0, 0, 0, 0, 0],\n",
       "       [0, 0, 0, 0, 0, 0, 0, 0, 0, 0, 0, 0, 0, 0, 0, 0, 0, 0, 0, 0]])"
      ]
     },
     "execution_count": 22,
     "metadata": {},
     "output_type": "execute_result"
    }
   ],
   "source": [
    "board = np.zeros((20, 20), dtype=int)\n",
    "alive_cells = [\n",
    "    (1, 2),  # Third row, second column\n",
    "    (2, 3),  # Fourth row, third column\n",
    "    (3, 1),  # Second row, fourth column\n",
    "    (3, 2),  # Third row, fourth column\n",
    "    (3, 3)   # Fourth row, fourth column\n",
    "]\n",
    "\n",
    "# Activate the specified cells\n",
    "for row, col in alive_cells:\n",
    "    board[row, col] = 1\n",
    "draw_gol_board(board)\n",
    "board\n"
   ]
  },
  {
   "cell_type": "code",
   "execution_count": 11,
   "metadata": {},
   "outputs": [
    {
     "data": {
      "image/png": "[encoded data removed]",
      "text/plain": [
       "<Figure size 432x288 with 1 Axes>"
      ]
     },
     "metadata": {},
     "output_type": "display_data"
    }
   ],
   "source": []
  },
  {
   "cell_type": "markdown",
   "metadata": {},
   "source": [
    "5. Generate a plot with 5 subplots, arranged in a 5-by-1 grid, showing the first five steps of the Game of Life when started with the board you just created, with the steps ordered from top to bottom, The figure in the 5-by-5 sub-board above is called a glider, and it is interesting in that, as you can see from your plot, it seems to move along the board as you run the game."
   ]
  },
  {
   "cell_type": "code",
   "execution_count": 26,
   "metadata": {},
   "outputs": [
    {
     "data": {
      "image/png": "[encoded data removed]",
      "text/plain": [
       "<Figure size 432x2160 with 5 Axes>"
      ]
     },
     "metadata": {
      "needs_background": "light"
     },
     "output_type": "display_data"
    }
   ],
   "source": [
    "generations = [board]\n",
    "for step in range(1, 5):\n",
    "    next_gen = gol_step(generations[-1])\n",
    "    generations.append(next_gen)\n",
    "'''\n",
    "for i, gen in enumerate(generations):\n",
    "    print(f\"\\nGeneration {i}:\")\n",
    "    print(gen[:5, :5])\n",
    "'''\n",
    "def plot_generations(generations, rows=5, cols=1):\n",
    "    fig, axes = plt.subplots(rows, cols, figsize=(6, 6*rows))\n",
    "    if cols == 1:\n",
    "        axes = axes.reshape(-1)\n",
    "    for i, (gen, ax) in enumerate(zip(generations, axes)):\n",
    "        ax.imshow(gen, cmap='binary', interpolation='nearest')\n",
    "        ax.set_title(f\"Generation {i}\", fontsize=12)\n",
    "        ax.grid(False)\n",
    "        ax.axis('off')\n",
    "    plt.tight_layout()\n",
    "    plt.show()\n",
    "\n",
    "plot_generations(generations)\n"
   ]
  },
  {
   "cell_type": "code",
   "execution_count": 13,
   "metadata": {},
   "outputs": [
    {
     "data": {
      "image/png": "[encoded data removed]",
      "text/plain": [
       "<Figure size 1656x1656 with 1 Axes>"
      ]
     },
     "metadata": {},
     "output_type": "display_data"
    },
    {
     "data": {
      "image/png": "[encoded data removed]",
      "text/plain": [
       "<Figure size 432x288 with 1 Axes>"
      ]
     },
     "metadata": {},
     "output_type": "display_data"
    },
    {
     "data": {
      "image/png": "[encoded data removed]",
      "text/plain": [
       "<Figure size 432x288 with 1 Axes>"
      ]
     },
     "metadata": {},
     "output_type": "display_data"
    },
    {
     "data": {
      "image/png": "[encoded data removed]",
      "text/plain": [
       "<Figure size 432x288 with 1 Axes>"
      ]
     },
     "metadata": {},
     "output_type": "display_data"
    },
    {
     "data": {
      "image/png": "[encoded data removed]",
      "text/plain": [
       "<Figure size 432x288 with 1 Axes>"
      ]
     },
     "metadata": {},
     "output_type": "display_data"
    }
   ],
   "source": []
  },
  {
   "cell_type": "markdown",
   "metadata": {},
   "source": [
    "6. Create a function called draw_animation that takes two arguments, a Game of Life board and a number of steps, and generates an animation of the game as it runs for the given number of steps."
   ]
  },
  {
   "cell_type": "code",
   "execution_count": 149,
   "metadata": {},
   "outputs": [],
   "source": [
    "def draw_animation(M, n):\n",
    "    from matplotlib.animation import FuncAnimation\n",
    "    if not is_valid_board(M):\n",
    "        raise ValueError(\"Invalid Game of Life board. The board must be a 2D NumPy array with all elements 0 or 1.\")\n",
    "\n",
    "    fig, ax = plt.subplots(figsize=(6, 6))\n",
    "    cmap = 'binary'  # 0 -> white, 1 -> black\n",
    "    img = ax.imshow(M, cmap=cmap, interpolation='nearest')\n",
    "    ax.grid(False)\n",
    "    ax.axis('off')\n",
    "    title = ax.set_title(\"Generation 0\", fontsize=16)\n",
    "    board = [M.copy()]\n",
    "\n",
    "    def update(frame):\n",
    "        board[0] = gol_step(board[0])\n",
    "        img.set_data(board[0])\n",
    "        title.set_text(f\"Generation {frame}\")\n",
    "        return img, title\n",
    "\n",
    "    anim = FuncAnimation(fig, update, frames=n, interval=100, blit=False)\n",
    "    plt.show()\n"
   ]
  },
  {
   "cell_type": "code",
   "execution_count": 177,
   "metadata": {},
   "outputs": [],
   "source": [
    "def draw_animation(M, n):\n",
    "    from matplotlib.animation import FuncAnimation\n",
    "    if not is_valid_board(M):\n",
    "        raise ValueError(\"Invalid Game of Life board. The board must be a 2D NumPy array with all elements 0 or 1.\")\n",
    "   \n",
    "    fig, ax = plt.subplots()\n",
    "    cmap = 'binary'  # 0 -> white, 1 -> black\n",
    "    img = ax.imshow(M, cmap=cmap, interpolation='nearest')\n",
    "    ax.grid(False)\n",
    "    ax.axis('off')\n",
    "    ax.set_title(\"Generation 0\", fontsize=16)\n",
    "\n",
    "    def update(M):\n",
    "        M = gol_step(M)\n",
    "        img.set_data(M)\n",
    "        print(M)\n",
    "    anim = FuncAnimation(fig = fig, func = update, frames=n, interval=100)\n",
    "    plt.show()"
   ]
  },
  {
   "cell_type": "code",
   "execution_count": 178,
   "metadata": {},
   "outputs": [
    {
     "data": {
      "image/png": "[encoded data removed]",
      "text/plain": [
       "<Figure size 432x288 with 1 Axes>"
      ]
     },
     "metadata": {
      "needs_background": "light"
     },
     "output_type": "display_data"
    },
    {
     "name": "stderr",
     "output_type": "stream",
     "text": [
      "c:\\Users\\ed069\\AppData\\Local\\Programs\\Python\\Python310\\lib\\site-packages\\matplotlib\\animation.py:887: UserWarning: Animation was deleted without rendering anything. This is most likely not intended. To prevent deletion, assign the Animation to a variable, e.g. `anim`, that exists until you have outputted the Animation using `plt.show()` or `anim.save()`.\n",
      "  warnings.warn(\n"
     ]
    }
   ],
   "source": [
    "draw_animation(board,100)"
   ]
  },
  {
   "cell_type": "code",
   "execution_count": null,
   "metadata": {},
   "outputs": [
    {
     "data": {
      "image/png": "[encoded data removed]",
      "text/plain": [
       "<Figure size 432x288 with 1 Axes>"
      ]
     },
     "metadata": {},
     "output_type": "display_data"
    }
   ],
   "source": [
    "draw_animation(a,100)"
   ]
  },
  {
   "cell_type": "code",
   "execution_count": null,
   "metadata": {},
   "outputs": [],
   "source": []
  }
 ],
 "metadata": {
  "kernelspec": {
   "display_name": "Python 3 (ipykernel)",
   "language": "python",
   "name": "python3"
  },
  "language_info": {
   "codemirror_mode": {
    "name": "ipython",
    "version": 3
   },
   "file_extension": ".py",
   "mimetype": "text/x-python",
   "name": "python",
   "nbconvert_exporter": "python",
   "pygments_lexer": "ipython3",
   "version": "3.10.5"
  }
 },
 "nbformat": 4,
 "nbformat_minor": 2
}
