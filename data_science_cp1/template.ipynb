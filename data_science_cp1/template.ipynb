version https://git-lfs.github.com/spec/v1
oid sha256:e138083d0c2974a0b86c1b7c40e971929c3cf20cd7d992b95585a5a3cf91b6b7
size 89595
