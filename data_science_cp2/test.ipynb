version https://git-lfs.github.com/spec/v1
oid sha256:82d2079fb0d021a9b954cecbf53f1292af1fdda8e86dbce2a7939d3096edab72
size 711042
