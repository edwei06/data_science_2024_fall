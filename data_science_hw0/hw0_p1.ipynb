version https://git-lfs.github.com/spec/v1
oid sha256:eada3e1f46cbfc48f9f104bc34e7a265b2dc2fd190432aab704ca57305d623e3
size 13883
